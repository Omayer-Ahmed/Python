{
  "cells": [
    {
      "cell_type": "markdown",
      "metadata": {
        "id": "view-in-github",
        "colab_type": "text"
      },
      "source": [
        "<a href=\"https://colab.research.google.com/github/Omayer-Ahmed/Python/blob/main/Lab_Practice_Cryptography_And_Network_Security.ipynb\" target=\"_parent\"><img src=\"https://colab.research.google.com/assets/colab-badge.svg\" alt=\"Open In Colab\"/></a>"
      ]
    },
    {
      "cell_type": "markdown",
      "id": "a9707fdc",
      "metadata": {
        "id": "a9707fdc"
      },
      "source": [
        "# Python Syntax"
      ]
    },
    {
      "cell_type": "markdown",
      "id": "9e133b9c",
      "metadata": {
        "id": "9e133b9c"
      },
      "source": [
        "indentent error: indentation error can occur when the spaces or tabs are not placed properly."
      ]
    },
    {
      "cell_type": "code",
      "execution_count": null,
      "id": "a60dd3e4",
      "metadata": {
        "id": "a60dd3e4",
        "outputId": "b0f62fbc-b119-4b73-9d00-9f974a8a0df4"
      },
      "outputs": [
        {
          "ename": "IndentationError",
          "evalue": "expected an indented block after 'if' statement on line 1 (2693080537.py, line 2)",
          "output_type": "error",
          "traceback": [
            "\u001b[1;36m  Cell \u001b[1;32mIn[3], line 2\u001b[1;36m\u001b[0m\n\u001b[1;33m    print(\"5 is greater than 2\")\u001b[0m\n\u001b[1;37m    ^\u001b[0m\n\u001b[1;31mIndentationError\u001b[0m\u001b[1;31m:\u001b[0m expected an indented block after 'if' statement on line 1\n"
          ]
        }
      ],
      "source": [
        "if 5>2:\n",
        "print(\"5 is greater than 2\")"
      ]
    },
    {
      "cell_type": "markdown",
      "id": "8e2ccc6e",
      "metadata": {
        "id": "8e2ccc6e"
      },
      "source": [
        "#solve the indentation error"
      ]
    },
    {
      "cell_type": "code",
      "execution_count": null,
      "id": "c59ae879",
      "metadata": {
        "id": "c59ae879",
        "outputId": "c80c8408-1276-474f-ee05-003b7e29d3bc"
      },
      "outputs": [
        {
          "name": "stdout",
          "output_type": "stream",
          "text": [
            "5 is greater than 2\n"
          ]
        }
      ],
      "source": [
        "if 5>2:\n",
        "  print(\"5 is greater than 2\")"
      ]
    },
    {
      "cell_type": "code",
      "execution_count": null,
      "id": "5741a677",
      "metadata": {
        "id": "5741a677",
        "outputId": "ea0c2d25-7e46-43ca-bae8-ddcd66fd0711"
      },
      "outputs": [
        {
          "ename": "IndentationError",
          "evalue": "unindent does not match any outer indentation level (<tokenize>, line 3)",
          "output_type": "error",
          "traceback": [
            "\u001b[1;36m  File \u001b[1;32m<tokenize>:3\u001b[1;36m\u001b[0m\n\u001b[1;33m    print(\"It is correct.\");\u001b[0m\n\u001b[1;37m    ^\u001b[0m\n\u001b[1;31mIndentationError\u001b[0m\u001b[1;31m:\u001b[0m unindent does not match any outer indentation level\n"
          ]
        }
      ],
      "source": [
        "if 4>2:\n",
        "    print(\"4 is greater than 2.\");\n",
        " print(\"It is correct.\");"
      ]
    },
    {
      "cell_type": "markdown",
      "id": "07f6ac4b",
      "metadata": {
        "id": "07f6ac4b"
      },
      "source": [
        "#solve the indentation error"
      ]
    },
    {
      "cell_type": "code",
      "execution_count": null,
      "id": "9a00e822",
      "metadata": {
        "id": "9a00e822",
        "outputId": "839137b9-c554-4889-9b3d-639778c6d519"
      },
      "outputs": [
        {
          "name": "stdout",
          "output_type": "stream",
          "text": [
            "4 is greater than 2.\n",
            "It is correct.\n"
          ]
        }
      ],
      "source": [
        "if 4>2:\n",
        "    print(\"4 is greater than 2.\");\n",
        "    print(\"It is correct.\");"
      ]
    },
    {
      "cell_type": "markdown",
      "id": "169a529a",
      "metadata": {
        "id": "169a529a"
      },
      "source": [
        "# Python Comments"
      ]
    },
    {
      "cell_type": "markdown",
      "id": "1dbdc55c",
      "metadata": {
        "id": "1dbdc55c"
      },
      "source": [
        "single line comment:\n",
        "    To take single line comment we use '#' symbol"
      ]
    },
    {
      "cell_type": "code",
      "execution_count": null,
      "id": "5bb6bcab",
      "metadata": {
        "id": "5bb6bcab",
        "outputId": "b2140576-ff90-4142-df2d-10d9b7903c97"
      },
      "outputs": [
        {
          "name": "stdout",
          "output_type": "stream",
          "text": [
            "Omayer Ahmed\n"
          ]
        }
      ],
      "source": [
        "#how to print anything in python\n",
        "print(\"Omayer Ahmed\")"
      ]
    },
    {
      "cell_type": "markdown",
      "id": "b517cdf6",
      "metadata": {
        "id": "b517cdf6"
      },
      "source": [
        "Multiple Line Comment : To take multiple line comments we use \"\"\" write here comments\"\"\"  or  ''' write here comments '''"
      ]
    },
    {
      "cell_type": "code",
      "execution_count": null,
      "id": "6939bd94",
      "metadata": {
        "id": "6939bd94",
        "outputId": "53cd14d4-b321-4a3d-a450-a51e3a0622b5"
      },
      "outputs": [
        {
          "data": {
            "text/plain": [
              "' write here text to take multiple line comments '"
            ]
          },
          "execution_count": 11,
          "metadata": {},
          "output_type": "execute_result"
        }
      ],
      "source": [
        "#use of single quotes\n",
        "''' write here text to take multiple line comments '''\n"
      ]
    },
    {
      "cell_type": "code",
      "execution_count": null,
      "id": "6fa90a19",
      "metadata": {
        "id": "6fa90a19",
        "outputId": "2e5a2cc6-69e0-466e-e6dd-77dff695a93a"
      },
      "outputs": [
        {
          "data": {
            "text/plain": [
              "' write here text to take multiple line comments '"
            ]
          },
          "execution_count": 12,
          "metadata": {},
          "output_type": "execute_result"
        }
      ],
      "source": [
        "#use of double quotes\n",
        "\"\"\" write here text to take multiple line comments \"\"\""
      ]
    },
    {
      "cell_type": "markdown",
      "id": "8826c4cf",
      "metadata": {
        "id": "8826c4cf"
      },
      "source": [
        "# Python Variables"
      ]
    },
    {
      "cell_type": "markdown",
      "id": "197aeec6",
      "metadata": {
        "id": "197aeec6"
      },
      "source": [
        "Variables:Variables are containers that can store different types of data values."
      ]
    },
    {
      "cell_type": "markdown",
      "id": "89ec89c9",
      "metadata": {
        "id": "89ec89c9"
      },
      "source": [
        "#single value with single variable"
      ]
    },
    {
      "cell_type": "code",
      "execution_count": null,
      "id": "a72cdfff",
      "metadata": {
        "id": "a72cdfff",
        "outputId": "d167b1e8-1135-4a9f-aa69-519515a96211"
      },
      "outputs": [
        {
          "name": "stdout",
          "output_type": "stream",
          "text": [
            "x would be  5\n",
            "y would be  23.3\n",
            "Name would be  Omayer Ahmed\n"
          ]
        }
      ],
      "source": [
        "#initialize different variables without casting\n",
        "\n",
        "x=5\n",
        "y=23.3\n",
        "name=\"Omayer Ahmed\"\n",
        "\n",
        "print(\"x would be \",x)\n",
        "print(\"y would be \",y)\n",
        "print(\"Name would be \",name);"
      ]
    },
    {
      "cell_type": "markdown",
      "id": "1a391045",
      "metadata": {
        "id": "1a391045"
      },
      "source": [
        "#Multiple values with multiple variables"
      ]
    },
    {
      "cell_type": "code",
      "execution_count": null,
      "id": "323dbed2",
      "metadata": {
        "id": "323dbed2",
        "outputId": "082705cf-2282-4fee-aeab-f3348cff0ab4"
      },
      "outputs": [
        {
          "name": "stdout",
          "output_type": "stream",
          "text": [
            "I am only  23 .\n",
            "My name is  Omayer Ahmed\n",
            "and my home discrict is  Mymenshingh\n"
          ]
        }
      ],
      "source": [
        "#initialize different variables without casting\n",
        "\n",
        "x,n,d = 23,\"Omayer Ahmed\",\"Mymenshingh\"\n",
        "\n",
        "print(\"I am only \",x,\".\")\n",
        "print(\"My name is \",n)\n",
        "print(\"and my home discrict is \",d)"
      ]
    },
    {
      "cell_type": "markdown",
      "id": "be4801fa",
      "metadata": {
        "id": "be4801fa"
      },
      "source": [
        "#multiple variables print in a single \"print()\"function"
      ]
    },
    {
      "cell_type": "code",
      "execution_count": null,
      "id": "eb158582",
      "metadata": {
        "id": "eb158582",
        "outputId": "3f5f7039-d97d-48a9-9cf1-dbfc956bc540"
      },
      "outputs": [
        {
          "name": "stdout",
          "output_type": "stream",
          "text": [
            "I am a student of CSE.\n"
          ]
        }
      ],
      "source": [
        "x=\"I am a student\"\n",
        "y=\"of\"\n",
        "z=\"CSE.\"\n",
        "\n",
        "print(x,y,z)\n"
      ]
    },
    {
      "cell_type": "code",
      "execution_count": null,
      "id": "bc59c7f3",
      "metadata": {
        "id": "bc59c7f3",
        "outputId": "c6431a43-6b50-44e5-9c52-64543f0279c5"
      },
      "outputs": [
        {
          "name": "stdout",
          "output_type": "stream",
          "text": [
            "I am a student of CSE.\n"
          ]
        }
      ],
      "source": [
        "#multiple variables print in a single \"print()\"function\n",
        "\n",
        "x=\"I am a student\"\n",
        "y=\"of\"\n",
        "z=\"CSE.\"\n",
        "\n",
        "print(x+\" \"+y+\" \"+z)"
      ]
    },
    {
      "cell_type": "markdown",
      "id": "03587147",
      "metadata": {
        "id": "03587147"
      },
      "source": [
        "Local Variable in Python:Local Variable can be used a specific environment not any environment."
      ]
    },
    {
      "cell_type": "code",
      "execution_count": null,
      "id": "7d97c242",
      "metadata": {
        "id": "7d97c242",
        "outputId": "1bc8da48-ee03-4f80-8086-94c452c8d5fa"
      },
      "outputs": [
        {
          "name": "stdout",
          "output_type": "stream",
          "text": [
            "Local Varible is  200\n"
          ]
        }
      ],
      "source": [
        "#Initialization a local variable in a function\n",
        "\n",
        "def MyLocalVariable():\n",
        "\n",
        "    x=200\n",
        "    print(\"Local Varible is \",x)\n",
        "    return\n",
        "\n",
        "MyLocalVariable()"
      ]
    },
    {
      "cell_type": "markdown",
      "id": "1efff8d7",
      "metadata": {
        "id": "1efff8d7"
      },
      "source": [
        "Global Variable: Global Variable can be used from anywhere."
      ]
    },
    {
      "cell_type": "code",
      "execution_count": null,
      "id": "aa297edb",
      "metadata": {
        "id": "aa297edb",
        "outputId": "f9e1928e-43bc-4d93-8ff5-6e571fb14e0e"
      },
      "outputs": [
        {
          "name": "stdout",
          "output_type": "stream",
          "text": [
            "Global Variable is  100\n",
            "Global Variable is  100\n"
          ]
        }
      ],
      "source": [
        "#Initialization a global variable in a function\n",
        "\n",
        "x=100\n",
        "\n",
        "def MyGlobalVariable():\n",
        "\n",
        "    print(\"Global Variable is \",x)\n",
        "    return\n",
        "\n",
        "\n",
        "print(\"Global Variable is \",x)\n",
        "\n",
        "MyGlobalVariable()\n"
      ]
    },
    {
      "cell_type": "markdown",
      "id": "a6969d4b",
      "metadata": {
        "id": "a6969d4b"
      },
      "source": [
        "# Python Data Types"
      ]
    },
    {
      "cell_type": "markdown",
      "id": "158a41fc",
      "metadata": {
        "id": "158a41fc"
      },
      "source": [
        "A variable can be store in different data types"
      ]
    },
    {
      "cell_type": "markdown",
      "id": "fab2c4e7",
      "metadata": {
        "id": "fab2c4e7"
      },
      "source": [
        "Text Type"
      ]
    },
    {
      "cell_type": "code",
      "execution_count": null,
      "id": "fdd9f88f",
      "metadata": {
        "id": "fdd9f88f",
        "outputId": "cb5f4ee1-dafa-4e69-8084-12b63f45d8a8"
      },
      "outputs": [
        {
          "name": "stdout",
          "output_type": "stream",
          "text": [
            "<class 'str'>\n",
            "<class 'str'>\n"
          ]
        }
      ],
      "source": [
        "#Use of single quates\n",
        "Name=\"Omayer Ahmed\"\n",
        "\n",
        "#Use of double quates\n",
        "Address='Mymensingh'\n",
        "\n",
        "print(type(Name))\n",
        "print(type(Address))"
      ]
    },
    {
      "cell_type": "markdown",
      "id": "cf00ee2e",
      "metadata": {
        "id": "cf00ee2e"
      },
      "source": [
        "Numeric Types"
      ]
    },
    {
      "cell_type": "code",
      "execution_count": null,
      "id": "69ca5284",
      "metadata": {
        "id": "69ca5284",
        "outputId": "b6599432-d5d7-415c-d5cc-d6dd416f9bc6"
      },
      "outputs": [
        {
          "name": "stdout",
          "output_type": "stream",
          "text": [
            "<class 'int'>\n",
            "<class 'float'>\n",
            "<class 'complex'>\n"
          ]
        }
      ],
      "source": [
        "#int type\n",
        "x=5\n",
        "print(type(x))\n",
        "\n",
        "#float type\n",
        "x=2.4\n",
        "print(type(x))\n",
        "\n",
        "#complex\n",
        "x=2j\n",
        "print(type(x))"
      ]
    },
    {
      "cell_type": "markdown",
      "id": "04a0e740",
      "metadata": {
        "id": "04a0e740"
      },
      "source": [
        "Sequence Types"
      ]
    },
    {
      "cell_type": "code",
      "execution_count": null,
      "id": "60f9b1b5",
      "metadata": {
        "id": "60f9b1b5",
        "outputId": "e5067d79-5597-45a8-84cb-95921511b2ea"
      },
      "outputs": [
        {
          "name": "stdout",
          "output_type": "stream",
          "text": [
            "<class 'list'>\n",
            "<class 'tuple'>\n",
            "<class 'range'>\n"
          ]
        }
      ],
      "source": [
        "#list type\n",
        "l=[1,2,3,\"Omayer\",\"Ahmed\"]\n",
        "print(type(l))\n",
        "\n",
        "#tuple type\n",
        "t=(3,2,3,\"CSE\")\n",
        "print(type(t))\n",
        "\n",
        "#range type\n",
        "r=range(1,10)\n",
        "print(type(r))\n",
        "\n"
      ]
    },
    {
      "cell_type": "markdown",
      "id": "02e4c504",
      "metadata": {
        "id": "02e4c504"
      },
      "source": [
        "Mapping Type"
      ]
    },
    {
      "cell_type": "code",
      "execution_count": null,
      "id": "eedcb5b4",
      "metadata": {
        "id": "eedcb5b4",
        "outputId": "b680fa94-cc67-4501-a183-7582f31f1a22"
      },
      "outputs": [
        {
          "name": "stdout",
          "output_type": "stream",
          "text": [
            "<class 'dict'>\n"
          ]
        }
      ],
      "source": [
        "#dictinary\n",
        "d ={\n",
        "    \"ID\":20111108,\n",
        "    \"Name\":\"Omayer\",\n",
        "    \"Address\":\"Jamalpur\"\n",
        "  }\n",
        "print(type(d))"
      ]
    },
    {
      "cell_type": "markdown",
      "id": "ea046fe4",
      "metadata": {
        "id": "ea046fe4"
      },
      "source": [
        "Set types"
      ]
    },
    {
      "cell_type": "code",
      "execution_count": null,
      "id": "9ff90bfe",
      "metadata": {
        "id": "9ff90bfe",
        "outputId": "b162e1fa-208c-4f0b-8587-70c15648370a"
      },
      "outputs": [
        {
          "name": "stdout",
          "output_type": "stream",
          "text": [
            "<class 'set'>\n",
            "<class 'set'>\n"
          ]
        }
      ],
      "source": [
        "#set type\n",
        "s={2,3,3,4,\"Omayer\",\"Ahmed\"}\n",
        "print(type(s))\n",
        "\n",
        "#frozenset\n",
        "f=({2,3,4,3,\"CSE\"})\n",
        "print(type(f))\n"
      ]
    },
    {
      "cell_type": "markdown",
      "id": "3fcd95ca",
      "metadata": {
        "id": "3fcd95ca"
      },
      "source": [
        "Boolean Type"
      ]
    },
    {
      "cell_type": "code",
      "execution_count": null,
      "id": "89093878",
      "metadata": {
        "id": "89093878",
        "outputId": "b127e7ab-de71-446d-9f15-8f6823bfd6a5"
      },
      "outputs": [
        {
          "name": "stdout",
          "output_type": "stream",
          "text": [
            "<class 'bool'>\n",
            "<class 'bool'>\n"
          ]
        }
      ],
      "source": [
        "#bool type\n",
        "x=True\n",
        "y=False\n",
        "print(type(x))\n",
        "print(type(y))"
      ]
    },
    {
      "cell_type": "markdown",
      "id": "619e457c",
      "metadata": {
        "id": "619e457c"
      },
      "source": [
        "Binary Types"
      ]
    },
    {
      "cell_type": "markdown",
      "id": "02887af5",
      "metadata": {
        "id": "02887af5"
      },
      "source": [
        "#bytes\n",
        "The bytes data type is used to represent a group of byte number.\n",
        ".The bytes is like an array which can hold multiple value\n",
        ".The bytes can store the number between 0 to 255\n"
      ]
    },
    {
      "cell_type": "code",
      "execution_count": null,
      "id": "6450c3c9",
      "metadata": {
        "id": "6450c3c9",
        "outputId": "79a949b0-d17a-451e-93f3-118a63454dd4"
      },
      "outputs": [
        {
          "name": "stdout",
          "output_type": "stream",
          "text": [
            "2\n",
            "3\n",
            "<class 'bytes'>\n"
          ]
        }
      ],
      "source": [
        "#bytes\n",
        "\n",
        "l=[2,3,23,3,56] # list\n",
        "s=bytes(l) # From list to bytes\n",
        "print(s[0])\n",
        "print(s[3])\n",
        "print(type(s))"
      ]
    },
    {
      "cell_type": "code",
      "execution_count": null,
      "id": "32cbce93",
      "metadata": {
        "id": "32cbce93",
        "outputId": "1871dbf1-ea49-45b1-9e21-e3b9a93d5fc1"
      },
      "outputs": [
        {
          "name": "stdout",
          "output_type": "stream",
          "text": [
            "<class 'bytearray'>\n",
            "33 45\n",
            "130\n"
          ]
        }
      ],
      "source": [
        "#bytearray\n",
        "\n",
        "l=[33,45,66,64,90]\n",
        "s=bytearray(l)\n",
        "print(type(s))\n",
        "print(s[0],s[1])\n",
        "print(s[3]+s[2])\n"
      ]
    },
    {
      "cell_type": "code",
      "execution_count": null,
      "id": "4faf60af",
      "metadata": {
        "id": "4faf60af",
        "outputId": "0ae98a48-6ace-4275-eca0-bd5a16786a39"
      },
      "outputs": [
        {
          "name": "stdout",
          "output_type": "stream",
          "text": [
            "<class 'memoryview'>\n",
            "65\n"
          ]
        }
      ],
      "source": [
        "#memoryview\n",
        "# Create a bytes object\n",
        "\n",
        "data =b\"Aabc!\"\n",
        "x=memoryview(data)\n",
        "print(type(x))\n",
        "print(x[0])\n"
      ]
    },
    {
      "cell_type": "markdown",
      "id": "b2db0867",
      "metadata": {
        "id": "b2db0867"
      },
      "source": [
        "None Type"
      ]
    },
    {
      "cell_type": "markdown",
      "id": "60065895",
      "metadata": {
        "id": "60065895"
      },
      "source": [
        "In here ,value is not assigned in variable"
      ]
    },
    {
      "cell_type": "code",
      "execution_count": null,
      "id": "e1cc0940",
      "metadata": {
        "id": "e1cc0940",
        "outputId": "687e18e6-58c9-450d-a099-1dc830279efa"
      },
      "outputs": [
        {
          "name": "stdout",
          "output_type": "stream",
          "text": [
            "None\n",
            "<class 'NoneType'>\n"
          ]
        }
      ],
      "source": [
        "#none type\n",
        "a=None\n",
        "print(a)\n",
        "print(type(a))"
      ]
    },
    {
      "cell_type": "markdown",
      "id": "873624a5",
      "metadata": {
        "id": "873624a5"
      },
      "source": [
        "# Number in Python"
      ]
    },
    {
      "cell_type": "code",
      "execution_count": null,
      "id": "66ddab18",
      "metadata": {
        "id": "66ddab18",
        "outputId": "294e1415-b3f1-40ca-b28f-f006919edbca"
      },
      "outputs": [
        {
          "name": "stdout",
          "output_type": "stream",
          "text": [
            "x: <class 'int'>\n",
            "y: <class 'int'>\n",
            "z: <class 'int'>\n",
            "a: <class 'float'>\n",
            "b: <class 'float'>\n",
            "c: <class 'float'>\n",
            "<class 'complex'>\n",
            "<class 'complex'>\n"
          ]
        }
      ],
      "source": [
        "#int\n",
        "x=22\n",
        "y=323\n",
        "z=3333333333232\n",
        "print(\"x:\",type(x))\n",
        "print(\"y:\",type(y))\n",
        "print(\"z:\",type(z))\n",
        "\n",
        "\n",
        "#float\n",
        "a=3.3\n",
        "b=32.3\n",
        "c=333.33333333333333\n",
        "print(\"a:\",type(a))\n",
        "print(\"b:\",type(b))\n",
        "print(\"c:\",type(c))\n",
        "\n",
        "\n",
        "#Complex\n",
        "m=2+3j\n",
        "n=23j+3\n",
        "print(type(m))\n",
        "print(type(n))\n"
      ]
    },
    {
      "cell_type": "markdown",
      "id": "24990266",
      "metadata": {
        "id": "24990266"
      },
      "source": [
        "Conversion of Numbers"
      ]
    },
    {
      "cell_type": "code",
      "execution_count": null,
      "id": "0a12707c",
      "metadata": {
        "id": "0a12707c",
        "outputId": "841065eb-003e-459d-a725-9c8ebcdc42a3"
      },
      "outputs": [
        {
          "name": "stdout",
          "output_type": "stream",
          "text": [
            "333.0\n",
            "343.0\n",
            "33\n",
            "334\n",
            "(3444+0j)\n"
          ]
        }
      ],
      "source": [
        "#int to float number convirsion\n",
        "\n",
        "a=333\n",
        "b=343\n",
        "print(float(a))\n",
        "print(float(b))\n",
        "\n",
        "#float to int conversion\n",
        "\n",
        "a=33.33\n",
        "b=334.444\n",
        "print(int(a))\n",
        "print(int(b))\n",
        "\n",
        "#int to complex number conversion\n",
        "\n",
        "x=3444\n",
        "print(complex(x))\n",
        "\n"
      ]
    },
    {
      "cell_type": "markdown",
      "id": "b66995fa",
      "metadata": {
        "id": "b66995fa"
      },
      "source": [
        "# Casting In Python"
      ]
    },
    {
      "cell_type": "code",
      "execution_count": null,
      "id": "15810b8e",
      "metadata": {
        "id": "15810b8e",
        "outputId": "b2177a9f-66b9-495f-88f2-80b0129afebb"
      },
      "outputs": [
        {
          "name": "stdout",
          "output_type": "stream",
          "text": [
            "3 3 45\n",
            "3.0 3.33 3.43423\n",
            "3.323 abc Omayer\n"
          ]
        }
      ],
      "source": [
        "#integers\n",
        "a=int(3)\n",
        "b=int(3.4)\n",
        "c=int(45.832)\n",
        "print(a,b,c)\n",
        "\n",
        "#float\n",
        "a=float(3)\n",
        "b=float(3.33)\n",
        "c=float(3.43423)\n",
        "print(a,b,c)\n",
        "\n",
        "#string\n",
        "a=str(3.323)\n",
        "b=str('abc')\n",
        "c=str(\"Omayer\")\n",
        "print(a,b,c)"
      ]
    },
    {
      "cell_type": "markdown",
      "id": "5d45b2d2",
      "metadata": {
        "id": "5d45b2d2"
      },
      "source": [
        "# String in Python"
      ]
    },
    {
      "cell_type": "code",
      "execution_count": null,
      "id": "fa19325f",
      "metadata": {
        "id": "fa19325f",
        "outputId": "07afc84c-e1c1-43ed-b57a-6a4c4e3ec1db"
      },
      "outputs": [
        {
          "name": "stdout",
          "output_type": "stream",
          "text": [
            "I am a student of CSE \n",
            "I live in Jamalpur\n",
            "My home discrict is Mymensingh\n",
            "Jamalpur is under the Mymensingh division\n"
          ]
        }
      ],
      "source": [
        "#use of string in python\n",
        "a=\"I am a student of CSE \"\n",
        "b='I live in Jamalpur'\n",
        "c='''My home discrict is Mymensingh'''\n",
        "d=\"\"\"Jamalpur is under the Mymensingh division\"\"\"\n",
        "\n",
        "\n",
        "print(a)\n",
        "print(b)\n",
        "print(c)\n",
        "print(d)"
      ]
    },
    {
      "cell_type": "markdown",
      "id": "6cdcb390",
      "metadata": {
        "id": "6cdcb390"
      },
      "source": [
        "string as array"
      ]
    },
    {
      "cell_type": "code",
      "execution_count": null,
      "id": "ab332903",
      "metadata": {
        "id": "ab332903",
        "outputId": "7c16a624-14c6-425a-c78c-973605a3ef67"
      },
      "outputs": [
        {
          "name": "stdout",
          "output_type": "stream",
          "text": [
            "M\n",
            "a\n",
            "d\n",
            "e\n"
          ]
        }
      ],
      "source": [
        "#string as array\n",
        "\n",
        "a=\"\"\"My name is Omayer Ahmed\"\"\"\n",
        "\n",
        "#positive indexing\n",
        "print(a[0])\n",
        "print(a[4])\n",
        "\n",
        "#negative indexing\n",
        "print(a[-1])\n",
        "print(a[-2])"
      ]
    },
    {
      "cell_type": "code",
      "execution_count": null,
      "id": "97bc12df",
      "metadata": {
        "id": "97bc12df",
        "outputId": "d6c81bf5-0ce5-4c43-985a-18e8ba0fd482"
      },
      "outputs": [
        {
          "name": "stdout",
          "output_type": "stream",
          "text": [
            "O\n",
            "m\n",
            "a\n",
            "y\n",
            "e\n",
            "r\n",
            " \n",
            "A\n",
            "h\n",
            "m\n",
            "e\n",
            "d\n"
          ]
        }
      ],
      "source": [
        "#looping throuth a string\n",
        "\n",
        "for i in \"Omayer Ahmed\":\n",
        "    print(i)\n"
      ]
    },
    {
      "cell_type": "markdown",
      "id": "6d469804",
      "metadata": {
        "id": "6d469804"
      },
      "source": [
        "Length calculation from a string"
      ]
    },
    {
      "cell_type": "code",
      "execution_count": null,
      "id": "9b24af08",
      "metadata": {
        "id": "9b24af08",
        "outputId": "0ef37213-01b6-4f07-9596-99c2c96e208e"
      },
      "outputs": [
        {
          "name": "stdout",
          "output_type": "stream",
          "text": [
            "Length of string s is  68\n",
            "Length of d is  32\n"
          ]
        }
      ],
      "source": [
        "#use of len() function\n",
        "\n",
        "U='''Bangama Sheikh Fojilatunnesa Mujib Science and Technology University'''\n",
        "print(\"Length of string s is \",len(U))\n",
        "\n",
        "\n",
        "d=\"\"\"Computer Science And Engineering\"\"\"\n",
        "print(\"Length of d is \",len(d))\n"
      ]
    },
    {
      "cell_type": "markdown",
      "id": "1c9cf46c",
      "metadata": {
        "id": "1c9cf46c"
      },
      "source": [
        "Test a text is whether present in a string or not"
      ]
    },
    {
      "cell_type": "code",
      "execution_count": null,
      "id": "9e7f2d21",
      "metadata": {
        "id": "9e7f2d21",
        "outputId": "5566a435-b1be-44d3-ca0c-0a2c52469d48"
      },
      "outputs": [
        {
          "name": "stdout",
          "output_type": "stream",
          "text": [
            "True\n",
            "True\n",
            "True\n",
            "yes,it exists in this sentence\n",
            "University does not exist in deptn\n"
          ]
        }
      ],
      "source": [
        "#string\n",
        "text=\"\"\"We are the people of Bangladesh\"\"\"\n",
        "\n",
        "print(\"We\" in text)\n",
        "print(\"people\" in text)\n",
        "\n",
        "#number as a string\n",
        "x='''2,3,3,44,3'''\n",
        "print('2' in x)\n",
        "\n",
        "#using of if statement\n",
        "deptn=\"\"\"Computer Science and Engineering\"\"\"\n",
        "if \"Science\" in deptn:\n",
        "    print(\"yes,it exists in this sentence\")\n",
        "\n",
        "#using of not if statement\n",
        "deptn=\"\"\"Computer Science And Engineering\"\"\"\n",
        "\n",
        "if \"University\" not in deptn:\n",
        "        print(\"University does not exist in deptn\")"
      ]
    },
    {
      "cell_type": "markdown",
      "id": "f3e42000",
      "metadata": {
        "id": "f3e42000"
      },
      "source": [
        "Python Slicing String"
      ]
    },
    {
      "cell_type": "markdown",
      "id": "48bf25e9",
      "metadata": {
        "id": "48bf25e9"
      },
      "source": [
        "Specify the start index and the end index, separated by a colon, to return a part of the string."
      ]
    },
    {
      "cell_type": "code",
      "execution_count": null,
      "id": "660ac7c6",
      "metadata": {
        "id": "660ac7c6",
        "outputId": "d8ad601f-5665-4518-9042-b5503c218574"
      },
      "outputs": [
        {
          "name": "stdout",
          "output_type": "stream",
          "text": [
            "We\n",
            "We are\n",
            "We are the\n",
            "We are the people\n",
            "We are the people of\n",
            "We are the people of Bangladesh\n"
          ]
        }
      ],
      "source": [
        "text=\"\"\"We are the people of Bangladesh\"\"\"\n",
        "\n",
        "print(text[0:2])\n",
        "print(text[0:6])\n",
        "print(text[0:10])\n",
        "print(text[0:17])\n",
        "print(text[0:20])\n",
        "print(text[0:31])"
      ]
    },
    {
      "cell_type": "code",
      "execution_count": null,
      "id": "2216563c",
      "metadata": {
        "id": "2216563c",
        "outputId": "a34eaa85-be8b-4182-b28c-8b5622b2cf96"
      },
      "outputs": [
        {
          "name": "stdout",
          "output_type": "stream",
          "text": [
            "We are the people\n",
            " the people of Bangladesh\n"
          ]
        }
      ],
      "source": [
        "#slice from starting\n",
        "\n",
        "text=\"\"\"We are the people of Bangladesh\"\"\"\n",
        "\n",
        "print(text[:17])\n",
        "\n",
        "#slice from ending\n",
        "print(text[6:])\n"
      ]
    },
    {
      "cell_type": "markdown",
      "id": "fd9f3438",
      "metadata": {
        "id": "fd9f3438"
      },
      "source": [
        "Modify String"
      ]
    },
    {
      "cell_type": "code",
      "execution_count": null,
      "id": "c4c527f0",
      "metadata": {
        "id": "c4c527f0",
        "outputId": "5b5b83a4-9c5e-45ee-eeff-37ad35b78818"
      },
      "outputs": [
        {
          "name": "stdout",
          "output_type": "stream",
          "text": [
            " WE ARE THE PEOPLE OF BANGLADESH \n",
            " we are the people of bangladesh \n",
            "We are the people of Bangladesh\n",
            " We are the people of BD \n",
            "['We', 'are', 'the', 'people', 'of', 'Bangladesh']\n",
            "Full Name: Omayer Ahmed\n",
            "Please give me 2 books.How much price are these books?These are onle 400 Take .I will give you 350 Take. \n"
          ]
        }
      ],
      "source": [
        "#upper case\n",
        "s=\" We are the people of Bangladesh \"\n",
        "print(s.upper())\n",
        "\n",
        "#lower case\n",
        "print(s.lower())\n",
        "\n",
        "#remove white space  ;we use strip() to remove white space of beginning and ending\n",
        "print(s.strip())\n",
        "\n",
        "#replace string\n",
        "print(s.replace(\"Bangladesh\",\"BD\"))\n",
        "\n",
        "#split string\n",
        "print(s.split())\n",
        "\n",
        "#string Concatenation\n",
        "F_name=\"Omayer\"\n",
        "L_name=\"Ahmed\"\n",
        "print(\"Full Name:\",F_name+\" \"+L_name)\n",
        "\n",
        "#string format\n",
        "#convert a number into a string\n",
        "a,b,c=2,400,350\n",
        "f=\"Please give me {0} books.How much price are these books?These are onle {1} Take .\n",
        "I will give you {2} Take. \"\n",
        "\n",
        "print(f.format(a,b,c))"
      ]
    },
    {
      "cell_type": "markdown",
      "id": "56347d67",
      "metadata": {
        "id": "56347d67"
      },
      "source": [
        "escape character"
      ]
    },
    {
      "cell_type": "code",
      "execution_count": null,
      "id": "20ccb9b0",
      "metadata": {
        "id": "20ccb9b0",
        "outputId": "5c7b4cb4-232e-4d70-f43a-8fb2bf37e262"
      },
      "outputs": [
        {
          "name": "stdout",
          "output_type": "stream",
          "text": [
            "We are the people \bof Bangladesh\n",
            "We are the people\tof Bangladesh\n",
            "We are the people \n",
            " of Bangladesh\n"
          ]
        }
      ],
      "source": [
        "#Backspace\n",
        "s=\"We are the people \\bof Bangladesh\"\n",
        "print(s)\n",
        "\n",
        "#use of tab\n",
        "s=\"We are the people\\tof Bangladesh\"\n",
        "print(s)\n",
        "\n",
        "#use of new line\n",
        "s=\"We are the people \\n of Bangladesh\"\n",
        "print(s)"
      ]
    },
    {
      "cell_type": "markdown",
      "id": "8ae57666",
      "metadata": {
        "id": "8ae57666"
      },
      "source": [
        "# Python Booleans"
      ]
    },
    {
      "cell_type": "code",
      "execution_count": null,
      "id": "9bf5a951",
      "metadata": {
        "id": "9bf5a951",
        "outputId": "8fbd2574-304e-4220-e658-428fff7e7e19"
      },
      "outputs": [
        {
          "name": "stdout",
          "output_type": "stream",
          "text": [
            "False\n",
            "True\n",
            "True\n",
            "3 is greater than 2\n",
            "True\n",
            "True\n",
            "True\n"
          ]
        },
        {
          "data": {
            "text/plain": [
              "True"
            ]
          },
          "execution_count": 63,
          "metadata": {},
          "output_type": "execute_result"
        }
      ],
      "source": [
        "#booleans value\n",
        "print(4>4)\n",
        "print(43>34)\n",
        "print(-3939<3230)\n",
        "\n",
        "#useing condition\n",
        "if 3>2:\n",
        "    print(\"3 is greater than 2\")\n",
        "else:\n",
        "   print(\"3 is not greate than 2\")\n",
        "\n",
        "#use of bool()\n",
        "print(bool(-3))\n",
        "print(bool(3j))\n",
        "print(bool([2,3,3,4,3]))\n",
        "\n",
        "#use bool in function\n",
        "def byfunction():\n",
        "\n",
        "    if 3>2:\n",
        "       return True\n",
        "    else:\n",
        "       return False\n",
        "\n",
        "byfunction()"
      ]
    },
    {
      "cell_type": "markdown",
      "id": "d858fc55",
      "metadata": {
        "id": "d858fc55"
      },
      "source": [
        "# Python Operators"
      ]
    },
    {
      "cell_type": "markdown",
      "id": "8d7bca33",
      "metadata": {
        "id": "8d7bca33"
      },
      "source": [
        "#assignment operator"
      ]
    },
    {
      "cell_type": "code",
      "execution_count": null,
      "id": "8764800b",
      "metadata": {
        "id": "8764800b",
        "outputId": "92c097bb-ad8a-4390-feee-48d649385786"
      },
      "outputs": [
        {
          "name": "stdout",
          "output_type": "stream",
          "text": [
            "20\n",
            "0\n",
            "100\n",
            "1.0\n",
            "0\n",
            "12\n",
            "8\n",
            "100\n"
          ]
        }
      ],
      "source": [
        "#add ,sub,div,mod\n",
        "x,y=10,10\n",
        "print(x+y)\n",
        "print(x-y)\n",
        "print(x*y)\n",
        "print(x/y)\n",
        "print(x%y)\n",
        "\n",
        "#increment operators\n",
        "x=10\n",
        "x+=2\n",
        "print(x)\n",
        "\n",
        "#decrement operators\n",
        "x=10\n",
        "x-=2\n",
        "print(x)\n",
        "\n",
        "#use of multiplication\n",
        "x=10\n",
        "x*=10\n",
        "print(x)\n"
      ]
    },
    {
      "cell_type": "markdown",
      "id": "6e46b8e5",
      "metadata": {
        "id": "6e46b8e5"
      },
      "source": [
        "#Comparison operator\n",
        "\n",
        "\n"
      ]
    },
    {
      "cell_type": "code",
      "execution_count": null,
      "id": "f50ca6ac",
      "metadata": {
        "id": "f50ca6ac",
        "outputId": "031404c4-aa28-4b7b-bc7a-6bfb0e108bf6"
      },
      "outputs": [
        {
          "name": "stdout",
          "output_type": "stream",
          "text": [
            "200\n"
          ]
        }
      ],
      "source": [
        "a,b,c,d=10,200,30,40\n",
        "\n",
        "if a>b:\n",
        "\n",
        "    print(a)\n",
        "\n",
        "elif b>c:\n",
        "\n",
        "    print(b)\n",
        "\n",
        "elif c>d:\n",
        "    print(c)\n",
        "\n",
        "else:\n",
        "    print(d)\n",
        "\n",
        "\n"
      ]
    },
    {
      "cell_type": "markdown",
      "id": "2017ad3c",
      "metadata": {
        "id": "2017ad3c"
      },
      "source": [
        "#logical operator"
      ]
    },
    {
      "cell_type": "code",
      "execution_count": null,
      "id": "d7afffa7",
      "metadata": {
        "id": "d7afffa7",
        "outputId": "e104d892-0995-451f-b649-333a15b0a163"
      },
      "outputs": [
        {
          "name": "stdout",
          "output_type": "stream",
          "text": [
            "Correct\n",
            "False\n",
            "Yes\n"
          ]
        }
      ],
      "source": [
        "#logical or\n",
        "x,y,z=2,20,200\n",
        "if x>20 or y<20 or z>=200:\n",
        "    print(\"Correct\")\n",
        "else:\n",
        "    print(\"Error\")\n",
        "\n",
        "\n",
        "#logical and\n",
        "x,y,z=30,3,330\n",
        "if x<=20 and y<30:\n",
        "    print(\"Correct\")\n",
        "\n",
        "else:\n",
        "    print(\"False\")\n",
        "\n",
        "\n",
        "#logical not\n",
        "x,y,z=100,120,303\n",
        "if not(x<y and x <z):\n",
        "    print(\"False\")\n",
        "else:\n",
        "    print(\"Yes\")"
      ]
    },
    {
      "cell_type": "markdown",
      "id": "2850966b",
      "metadata": {
        "id": "2850966b"
      },
      "source": [
        "#identity operator"
      ]
    },
    {
      "cell_type": "code",
      "execution_count": null,
      "id": "67412344",
      "metadata": {
        "scrolled": false,
        "id": "67412344",
        "outputId": "4967243b-081a-4c42-caed-27991e2cefd6"
      },
      "outputs": [
        {
          "name": "stdout",
          "output_type": "stream",
          "text": [
            "x's elements are same but content is different\n",
            "False\n"
          ]
        }
      ],
      "source": [
        "x={1,2,2,3,\"Omayer\",\"Ahmed\"}\n",
        "y={1,2,2,3,\"Omayer\",\"Ahmed\"}\n",
        "z=y\n",
        "\n",
        "if x is y:\n",
        "    print(\"x is y\")\n",
        "else:\n",
        "    print(\"x's elements are same but content is different\")\n",
        "\n",
        "#or\n",
        "if y is not z:\n",
        "    print(\"True\")\n",
        "else:\n",
        "    print(\"False\")"
      ]
    },
    {
      "cell_type": "markdown",
      "id": "6f25b4ef",
      "metadata": {
        "id": "6f25b4ef"
      },
      "source": [
        "#membership operator"
      ]
    },
    {
      "cell_type": "code",
      "execution_count": null,
      "id": "342178cd",
      "metadata": {
        "id": "342178cd",
        "outputId": "8a7ad42b-2860-4ce7-e449-176c0486dcfb"
      },
      "outputs": [
        {
          "name": "stdout",
          "output_type": "stream",
          "text": [
            "True\n",
            "True\n",
            "True\n"
          ]
        }
      ],
      "source": [
        "#use of 'in' and 'not in'\n",
        "\n",
        "x=[\"Omayer\",24,\"Mymensingh\",20111108]\n",
        "\n",
        "print(\"Omayer\" in x)\n",
        "print(24 in x)\n",
        "\n",
        "print(\"Hello World\" not in x)"
      ]
    },
    {
      "cell_type": "markdown",
      "id": "cfd55835",
      "metadata": {
        "id": "cfd55835"
      },
      "source": [
        "#Bitwise operator"
      ]
    },
    {
      "cell_type": "code",
      "execution_count": null,
      "id": "c7ae7533",
      "metadata": {
        "id": "c7ae7533",
        "outputId": "4b8322aa-d5ed-41a2-feac-5c39b19adebb"
      },
      "outputs": [
        {
          "name": "stdout",
          "output_type": "stream",
          "text": [
            "2\n",
            "3\n",
            "1\n"
          ]
        }
      ],
      "source": [
        "#bitwise and\n",
        "x,y=2,3\n",
        "#and\n",
        "print(x & y)\n",
        "\n",
        "#or\n",
        "print(x | y)\n",
        "\n",
        "#xor\n",
        "print(x ^ y)\n"
      ]
    },
    {
      "cell_type": "markdown",
      "id": "849a00ae",
      "metadata": {
        "id": "849a00ae"
      },
      "source": [
        "# Python Lists"
      ]
    },
    {
      "cell_type": "markdown",
      "id": "f9d877d0",
      "metadata": {
        "id": "f9d877d0"
      },
      "source": [
        "#list takes the multiple item in a single variable\n",
        "#Use a square backet"
      ]
    },
    {
      "cell_type": "markdown",
      "id": "7f9858f2",
      "metadata": {
        "id": "7f9858f2"
      },
      "source": [
        "#List items are ordered, changeable, and allow duplicate values."
      ]
    },
    {
      "cell_type": "markdown",
      "id": "519d3199",
      "metadata": {
        "id": "519d3199"
      },
      "source": [
        "#indexing list items"
      ]
    },
    {
      "cell_type": "code",
      "execution_count": null,
      "id": "ea598de9",
      "metadata": {
        "id": "ea598de9",
        "outputId": "88400de2-3d92-4451-b626-3267a3270d0c"
      },
      "outputs": [
        {
          "name": "stdout",
          "output_type": "stream",
          "text": [
            "1\n",
            "e\n",
            "Omayer\n",
            "e\n",
            "[1, 2, 2, 'Omayer', 'Ahmed']\n",
            "<class 'list'>\n"
          ]
        }
      ],
      "source": [
        "lis=[1,2,2,\"Omayer\",\"Ahmed\"]\n",
        "\n",
        "print(lis[0])\n",
        "print(lis[3][4])\n",
        "print(lis[3])\n",
        "print(lis[4][3])\n",
        "print(lis)\n",
        "print(type(lis))\n"
      ]
    },
    {
      "cell_type": "code",
      "execution_count": null,
      "id": "f116cb65",
      "metadata": {
        "id": "f116cb65",
        "outputId": "9cdbb332-d3dc-4fa0-ddf7-e91cc28f4216"
      },
      "outputs": [
        {
          "name": "stdout",
          "output_type": "stream",
          "text": [
            "1\n",
            "[10, 20, 30]\n",
            "30\n",
            "['Omayer', 'Ahmed']\n",
            "Ahmed\n",
            "A\n"
          ]
        }
      ],
      "source": [
        "#use of nested list\n",
        "lis=[1,2,3,[10,20,30],40,[\"Omayer\",\"Ahmed\"]]\n",
        "print(lis[0])\n",
        "print(lis[3])\n",
        "print(lis[3][2])\n",
        "print(lis[5])\n",
        "print(lis[5][1])\n",
        "print(lis[5][1][0])\n"
      ]
    },
    {
      "cell_type": "code",
      "execution_count": null,
      "id": "c612f6cc",
      "metadata": {
        "id": "c612f6cc",
        "outputId": "8da506b9-8358-4eee-8185-46d73277859b"
      },
      "outputs": [
        {
          "name": "stdout",
          "output_type": "stream",
          "text": [
            "['Omayer', 'Ahmed']\n",
            "Ahmed\n",
            "[10, 20, 30]\n",
            "30\n"
          ]
        }
      ],
      "source": [
        "#use of negative indexing in list\n",
        "lis=[1,2,3,[10,20,30],40,[\"Omayer\",\"Ahmed\"]]\n",
        "print(lis[-1])\n",
        "print(lis[-1][-1])\n",
        "print(lis[-3])\n",
        "print(lis[-3][-1])\n"
      ]
    },
    {
      "cell_type": "code",
      "execution_count": null,
      "id": "1359de91",
      "metadata": {
        "id": "1359de91",
        "outputId": "b7fa98e1-6303-4214-f03f-4d5aabeee1df"
      },
      "outputs": [
        {
          "name": "stdout",
          "output_type": "stream",
          "text": [
            "[[10, 20, 30], 40, ['Omayer', 'Ahmed']]\n",
            "[1, 2, 3]\n",
            "[40, ['Omayer', 'Ahmed']]\n",
            "[1, 2, 3, [10, 20, 30]]\n",
            "[[10, 20, 30], 40, ['Omayer', 'Ahmed']]\n",
            "[[10, 20, 30], 40, ['Omayer', 'Ahmed']]\n",
            "[1, 2, 3]\n"
          ]
        }
      ],
      "source": [
        "#range specific indexing in list\n",
        "lis=[1,2,3,[10,20,30],40,[\"Omayer\",\"Ahmed\"]]\n",
        "print(lis[3:6])\n",
        "print(lis[0:3])\n",
        "print(lis[4:6])\n",
        "print(lis[:4])\n",
        "print(lis[3:])\n",
        "print(lis[-3:])\n",
        "print(lis[-6:-3])"
      ]
    },
    {
      "cell_type": "code",
      "execution_count": null,
      "id": "a8e6e366",
      "metadata": {
        "id": "a8e6e366",
        "outputId": "6683c906-4a7c-44b7-ff7b-e05d43aed758"
      },
      "outputs": [
        {
          "name": "stdout",
          "output_type": "stream",
          "text": [
            "NO\n"
          ]
        }
      ],
      "source": [
        "#use of if statement to check a item exists in a list or not\n",
        "lis=[1,2,3,[10,20,30],40,[\"Omayer\",\"Ahmed\"]]\n",
        "\n",
        "if 400 in lis:\n",
        "    print(\"yes\")\n",
        "else:\n",
        "    print(\"NO\")\n"
      ]
    },
    {
      "cell_type": "markdown",
      "id": "be2ff8fb",
      "metadata": {
        "id": "be2ff8fb"
      },
      "source": [
        "Change list items value"
      ]
    },
    {
      "cell_type": "code",
      "execution_count": null,
      "id": "497e0c1a",
      "metadata": {
        "id": "497e0c1a",
        "outputId": "e5cb7ed4-1045-4b60-97a3-9df5eb461618"
      },
      "outputs": [
        {
          "name": "stdout",
          "output_type": "stream",
          "text": [
            "['red', 'green', 'yellow', 'blue', [1, 2, 3, ['magenta', 'sky blue'], 4, 5]]\n",
            "['red', 'green', 'yellow', 'blue', [1, 10, 3, ['magenta', 'sky blue'], 4, 5]]\n",
            "['red', 'green', 'yellow', 'blue', [1, 10, 3, ['magenta', 'cyan'], 4, 5]]\n"
          ]
        }
      ],
      "source": [
        "color=['red','green','yellow','cyan',[1,2,3,['magenta','sky blue'],4,5]]\n",
        "color[3]='blue'\n",
        "print(color)\n",
        "\n",
        "color[4][1]=10\n",
        "print(color)\n",
        "\n",
        "color[4][3][1]='cyan'\n",
        "print(color)\n"
      ]
    },
    {
      "cell_type": "markdown",
      "id": "8800e984",
      "metadata": {
        "id": "8800e984"
      },
      "source": [
        "Change a Range of Item Values"
      ]
    },
    {
      "cell_type": "code",
      "execution_count": null,
      "id": "0fce7dba",
      "metadata": {
        "id": "0fce7dba",
        "outputId": "7e95ae48-ce82-4e59-c9b5-f780a77f247b"
      },
      "outputs": [
        {
          "name": "stdout",
          "output_type": "stream",
          "text": [
            "['C++', 'C', 'Jave', [1, 2, ['physics', 'chemistry', 'biology'], 3, 4], 40, 60, 70]\n",
            "['English', 'Bangla', 'Math', [1, 2, ['physics', 'HTML', 'CSS'], 3, 4], 40, 60, 70]\n",
            "['English', 'Bangla', 'Math', [1, 2, ['physics', 2, 'CSS'], 3, 4], 40, 60, 70]\n"
          ]
        }
      ],
      "source": [
        "#replace an item instead of an list item in a list\n",
        "\n",
        "book = ['English', 'Bangla', 'Math', [1, 2, ['physics', 'chemistry', 'biology'], 3, 4], 40, 60, 70]\n",
        "\n",
        "book[0:3] = ['C++', 'C',\"Jave\"]\n",
        "print(book)\n",
        "\n",
        "\n",
        "book = ['English', 'Bangla', 'Math', [1, 2, ['physics', 'chemistry', 'biology'], 3, 4], 40, 60, 70]\n",
        "book[3][2][1:3]=[\"HTML\",\"CSS\"]\n",
        "print(book)\n",
        "\n",
        "\n",
        "book = ['English', 'Bangla', 'Math', [1, 2, ['physics', 'chemistry', 'biology'], 3, 4], 40, 60, 70]\n",
        "book[3][2][1:3]=[2,\"CSS\"]\n",
        "print(book)\n",
        "\n"
      ]
    },
    {
      "cell_type": "markdown",
      "id": "e521acd8",
      "metadata": {
        "id": "e521acd8"
      },
      "source": [
        "Insert Items\n",
        "\n",
        "To insert a new list item, without replacing any of the existing values, we can use the insert() method.\n"
      ]
    },
    {
      "cell_type": "code",
      "execution_count": null,
      "id": "6a35531a",
      "metadata": {
        "id": "6a35531a",
        "outputId": "77c92ed7-e64f-4573-d111-bd233c798324"
      },
      "outputs": [
        {
          "name": "stdout",
          "output_type": "stream",
          "text": [
            "['egg', 'suger', 'butter', 'sandwich', ['pizza', 'bread', 1, 2, 3], 50, 600, ['fish', 'cumumber'], 40]\n",
            "['egg', 'butter', 'sandwich', ['pizza', 'egg', [20, 30, 40], 'bread', 1, 2, 3], 50, 600, ['fish', 'cumumber'], 40]\n",
            "['egg', 'butter', 'sandwich', ['pizza', [20, 30, 500, 40], 'bread', 1, 2, 3], 50, 600, ['fish', 'cumumber'], 40]\n"
          ]
        }
      ],
      "source": [
        "#inset itmes in a list\n",
        "\n",
        "food=['egg','butter','sandwich',['pizza','bread',1,2,3],50,600,['fish','cumumber'],40]\n",
        "\n",
        "food.insert(1,\"suger\")\n",
        "print(food)\n",
        "\n",
        "\n",
        "food=['egg','butter','sandwich',['pizza',[20,30,40],'bread',1,2,3],50,600,['fish','cumumber'],40]\n",
        "food[3].insert(1,\"egg\")\n",
        "print(food)\n",
        "\n",
        "\n",
        "food=['egg','butter','sandwich',['pizza',[20,30,40],'bread',1,2,3],50,600,['fish','cumumber'],40]\n",
        "food[3][1].insert(2,500)\n",
        "print(food)\n"
      ]
    },
    {
      "cell_type": "markdown",
      "id": "83c67a89",
      "metadata": {
        "id": "83c67a89"
      },
      "source": [
        "#add list items in python\n",
        "\n",
        "\n"
      ]
    },
    {
      "cell_type": "markdown",
      "id": "225e8d7d",
      "metadata": {
        "id": "225e8d7d"
      },
      "source": [
        "To add an item to the end of the list, use the append() method"
      ]
    },
    {
      "cell_type": "code",
      "execution_count": null,
      "id": "0714bd5f",
      "metadata": {
        "id": "0714bd5f",
        "outputId": "1ab975f9-a9f1-4730-c0fb-f8dcf1a5aca0"
      },
      "outputs": [
        {
          "name": "stdout",
          "output_type": "stream",
          "text": [
            "['swimming', 'cycling', ['boxing', ['shooting', ['cricket', 'football'], 'volleyball'], 2, 3, 'judo'], 'diving', 'athletics', 'ice hockey']\n"
          ]
        }
      ],
      "source": [
        "sports=['swimming','cycling',['boxing',['shooting',['cricket','football'],'volleyball',],2,3,'judo']\n",
        "                              ,'diving','athletics']\n",
        "\n",
        "sports.append('ice hockey')\n",
        "print(sports)"
      ]
    },
    {
      "cell_type": "markdown",
      "id": "0dda4c84",
      "metadata": {
        "id": "0dda4c84"
      },
      "source": [
        "extend a list using extend() method"
      ]
    },
    {
      "cell_type": "code",
      "execution_count": null,
      "id": "661779a1",
      "metadata": {
        "id": "661779a1",
        "outputId": "ed1c85b3-f61c-4f0e-baf7-bdf6d4f373f4"
      },
      "outputs": [
        {
          "name": "stdout",
          "output_type": "stream",
          "text": [
            "['bus', 'CNG', 'auto', 'train', 'red', 'green', 'yellow', 'blue']\n"
          ]
        }
      ],
      "source": [
        "#use of extend method\n",
        "car=['bus','CNG','auto','train']\n",
        "color=['red','green','yellow','blue']\n",
        "\n",
        "car.extend(color)\n",
        "print(car)\n"
      ]
    },
    {
      "cell_type": "markdown",
      "id": "120af2c9",
      "metadata": {
        "id": "120af2c9"
      },
      "source": [
        "Remove Specified Item"
      ]
    },
    {
      "cell_type": "code",
      "execution_count": null,
      "id": "626002af",
      "metadata": {
        "id": "626002af",
        "outputId": "598c8d6b-0e47-4c7f-8484-415b69704a79"
      },
      "outputs": [
        {
          "name": "stdout",
          "output_type": "stream",
          "text": [
            "['egg', 'sandwich', ['bread', 1, 2, 3], 50, 600, ['fish', 'cumumber'], 40]\n",
            "['English', 'Bangla', 'Math', [1, 2, ['chemistry', 'biology'], 3, 4], 40, 60, 70]\n",
            "[]\n"
          ]
        }
      ],
      "source": [
        "#remove specified item from a list\n",
        "food=['egg','butter','sandwich',['pizza','bread',1,2,3],50,600,['fish','cumumber'],40]\n",
        "\n",
        "food[3].remove('pizza')\n",
        "food.remove(\"butter\")\n",
        "print(food)\n",
        "\n",
        "\n",
        "# Remove Specified Index\n",
        "#To remove specified index we use pop() method\n",
        "book = ['English', 'Bangla', 'Math', [1, 2, ['physics', 'chemistry', 'biology'], 3, 4], 40, 60, 70]\n",
        "\n",
        "book[3][2].pop(0)\n",
        "print(book)\n",
        "\n",
        "\n",
        "#To clear all items from a list we use clear() method\n",
        "\n",
        "food=['egg', 'sandwich', ['bread', 1, 2, 3], 50, 600, ['fish', 'cumumber'], 40]\n",
        "food.clear()\n",
        "print(food)\n"
      ]
    },
    {
      "cell_type": "markdown",
      "id": "3376d714",
      "metadata": {
        "id": "3376d714"
      },
      "source": [
        "#loop list in python"
      ]
    },
    {
      "cell_type": "code",
      "execution_count": null,
      "id": "96a5555f",
      "metadata": {
        "id": "96a5555f",
        "outputId": "a662f733-476d-44df-c84a-a81c9e1e4a50"
      },
      "outputs": [
        {
          "name": "stdout",
          "output_type": "stream",
          "text": [
            "egg\n",
            "sandwich\n",
            "['bread', 1, 2, 3]\n",
            "50\n",
            "600\n",
            "['fish', 'cumumber']\n",
            "40\n",
            "bread\n",
            "1\n",
            "2\n",
            "3\n"
          ]
        }
      ],
      "source": [
        "#use of loop list\n",
        "food=['egg', 'sandwich', ['bread', 1, 2, 3], 50, 600, ['fish', 'cumumber'], 40]\n",
        "for f in food:\n",
        "      print(f)\n"
      ]
    },
    {
      "cell_type": "code",
      "execution_count": null,
      "id": "eef8f5c8",
      "metadata": {
        "id": "eef8f5c8",
        "outputId": "5144d75d-ec50-4b37-f245-c4270e8f910e"
      },
      "outputs": [
        {
          "name": "stdout",
          "output_type": "stream",
          "text": [
            "bread\n",
            "1\n",
            "2\n",
            "3\n"
          ]
        }
      ],
      "source": [
        "#sub list itmes print\n",
        "food=['egg', 'sandwich', ['bread', 1, 2, 3], 50, 600, ['fish', 'cumumber'], 40]\n",
        "subitmes=food[2]\n",
        "for i in subitmes:\n",
        "     print(i)\n"
      ]
    },
    {
      "cell_type": "code",
      "execution_count": null,
      "id": "d3d8ce6b",
      "metadata": {
        "id": "d3d8ce6b",
        "outputId": "06fa7ea3-6b94-454b-d612-c7eeb121ec98"
      },
      "outputs": [
        {
          "name": "stdout",
          "output_type": "stream",
          "text": [
            "egg\n",
            "sandwich\n",
            "bread\n",
            "1\n",
            "2\n",
            "3\n",
            "50\n"
          ]
        }
      ],
      "source": [
        "#all itmes print from a list\n",
        "food = ['egg', 'sandwich', ['bread', 1, 2, 3], 50]\n",
        "\n",
        "for item in food:\n",
        "    if isinstance(item, list) and 2 in item:\n",
        "        sublist = food[2]\n",
        "        for value in sublist:\n",
        "            print(value)\n",
        "    else:\n",
        "        print(item)"
      ]
    },
    {
      "cell_type": "markdown",
      "id": "ba9d0b5f",
      "metadata": {
        "id": "ba9d0b5f"
      },
      "source": [
        "Python List Comprehention"
      ]
    },
    {
      "cell_type": "code",
      "execution_count": null,
      "id": "d0b8a38d",
      "metadata": {
        "id": "d0b8a38d",
        "outputId": "e43e2518-badf-40c4-fa8e-9541d7ab9aa3"
      },
      "outputs": [
        {
          "name": "stdout",
          "output_type": "stream",
          "text": [
            "['apple', 'orange', 'guava', 'dates', 'mango']\n"
          ]
        }
      ],
      "source": [
        "fruits=['apple','orange','guava','dates','plum','mango']\n",
        "NewList=[]\n",
        "\n",
        "for i in fruits:\n",
        "    if \"a\" in i:\n",
        "        NewList.append(i)\n",
        "\n",
        "print(NewList)\n"
      ]
    },
    {
      "cell_type": "markdown",
      "id": "b38ca773",
      "metadata": {
        "id": "b38ca773"
      },
      "source": [
        "# Tuples in python\n"
      ]
    },
    {
      "cell_type": "markdown",
      "id": "2e969869",
      "metadata": {
        "id": "2e969869"
      },
      "source": [
        "Tuple items are ordered, unchangeable, and allow duplicate values."
      ]
    },
    {
      "cell_type": "code",
      "execution_count": null,
      "id": "2058b1f4",
      "metadata": {
        "id": "2058b1f4",
        "outputId": "3fdea2d4-d19d-42d3-86a4-371da971e03b"
      },
      "outputs": [
        {
          "name": "stdout",
          "output_type": "stream",
          "text": [
            "(1, 2, 3, 'apple', 'orange', 'guava', ('dates', 'plum', 'mango'), True, 5, False)\n",
            "<class 'tuple'>\n",
            "10\n"
          ]
        }
      ],
      "source": [
        "#use of parenthesis\n",
        "\n",
        "fruits=(1,2,3,'apple','orange','guava',('dates','plum','mango'),True,5,False)\n",
        "\n",
        "print(fruits)\n",
        "print(type(fruits))\n",
        "print(len(fruits))"
      ]
    },
    {
      "cell_type": "code",
      "execution_count": null,
      "id": "cbf9796a",
      "metadata": {
        "id": "cbf9796a",
        "outputId": "cc05d506-86f1-4f08-d667-6591c2866ed9"
      },
      "outputs": [
        {
          "name": "stdout",
          "output_type": "stream",
          "text": [
            "1\n",
            "(1, 2, 3)\n",
            "('apple', 'orange', 'guava')\n",
            "dates\n",
            "jackfruit\n",
            "(('dates', 'plum', ('jackfruit', 200, 400), 'mango'), True)\n",
            "('jackfruit', 200)\n",
            "plum\n"
          ]
        }
      ],
      "source": [
        "#access tuples\n",
        "\n",
        "fruits=(1,2,3,'apple','orange','guava',('dates','plum',('jackfruit',200,400),'mango'),True,5)\n",
        "print(fruits[0])\n",
        "print(fruits[0:3])\n",
        "print(fruits[3:6])\n",
        "print(fruits[6][0])\n",
        "print(fruits[6][2][0])\n",
        "\n",
        "#use of negative indexing\n",
        "print(fruits[-3:-1])\n",
        "print(fruits[-3][-2][-3:-1])\n",
        "print(fruits[-3][-3])"
      ]
    },
    {
      "cell_type": "markdown",
      "id": "90726b75",
      "metadata": {
        "id": "90726b75"
      },
      "source": [
        "#update tuples"
      ]
    },
    {
      "cell_type": "code",
      "execution_count": null,
      "id": "9c4349c8",
      "metadata": {
        "id": "9c4349c8",
        "outputId": "0a946cd0-37d6-4aa5-dc04-b0c7858e01a2"
      },
      "outputs": [
        {
          "name": "stdout",
          "output_type": "stream",
          "text": [
            "<class 'list'>\n",
            "['egg', 'sandwich', ('bread', 1, 2, 3), 50, 600, ('fish', 'cumumber'), 40]\n",
            "('egg', 'banana', 'sandwich', ('bread', 1, 2, 3), 50, 600, ('fish', 'cumumber'), 40)\n"
          ]
        }
      ],
      "source": [
        "#to update anyting at first we have to convert tuples into list\n",
        "\n",
        "food=('egg', 'sandwich', ('bread', 1, 2, 3), 50, 600, ('fish', 'cumumber'), 40)\n",
        "x=list(food)\n",
        "print(type(x))\n",
        "print(x)\n",
        "\n",
        "\n",
        "#insert item in tuple\n",
        "x.insert(1,\"banana\")\n",
        "food=tuple(x)\n",
        "print(food)\n"
      ]
    },
    {
      "cell_type": "code",
      "execution_count": null,
      "id": "9603dc97",
      "metadata": {
        "id": "9603dc97",
        "outputId": "7e63ed0f-4a21-4fb4-ee43-7453f2be59a5"
      },
      "outputs": [
        {
          "name": "stdout",
          "output_type": "stream",
          "text": [
            "('egg', 'sandwich', (1, 2, 3), 50, 600, ('fish', 'cumumber'), 40)\n"
          ]
        }
      ],
      "source": [
        "#remove item from a tuple using a list\n",
        "food = ('egg', 'sandwich', ('bread', 1, 2, 3), 50, 600, ('fish', 'cumumber'), 40)\n",
        "\n",
        "x = list(food)\n",
        "c = list(x[2])\n",
        "c.remove('bread')\n",
        "x[2] = tuple(c)\n",
        "food = tuple(x)\n",
        "print(food)\n"
      ]
    },
    {
      "cell_type": "code",
      "execution_count": null,
      "id": "87b51c46",
      "metadata": {
        "id": "87b51c46",
        "outputId": "5b4a0de0-3e21-4147-e8bd-f21b57b900fe"
      },
      "outputs": [
        {
          "name": "stdout",
          "output_type": "stream",
          "text": [
            "('egg', 'sandwich', ('bread', 1, 2, 3), 50, 600, ('fish', 'Vegetable', 'cumumber'), 40)\n"
          ]
        }
      ],
      "source": [
        "#remove item from a tuple using a list\n",
        "\n",
        "food = ('egg', 'sandwich', ('bread', 1, 2, 3), 50, 600, ('fish', 'cumumber'), 40)\n",
        "x = list(food)\n",
        "k = list(x[5])\n",
        "k.insert(1, \"Vegetable\")\n",
        "x[5] = tuple(k)\n",
        "food = tuple(x)\n",
        "print(food)"
      ]
    },
    {
      "cell_type": "code",
      "execution_count": null,
      "id": "78a08abe",
      "metadata": {
        "id": "78a08abe",
        "outputId": "453b9f28-d67e-4c31-8071-c577c3e152fd"
      },
      "outputs": [
        {
          "name": "stdout",
          "output_type": "stream",
          "text": [
            "('egg', 'sandwich', ('bread', 1, 2, 3, 'banana'), 50, 600, ('fish', 'cumumber'), 40)\n"
          ]
        }
      ],
      "source": [
        "#add item use append() method\n",
        "\n",
        "food = ('egg', 'sandwich', ('bread', 1, 2, 3), 50, 600, ('fish', 'cumumber'), 40)\n",
        "\n",
        "x=list(food)\n",
        "k=list(x[2])\n",
        "k.append(\"banana\")\n",
        "x[2]=tuple(k)\n",
        "food=tuple(x)\n",
        "print(food)"
      ]
    },
    {
      "cell_type": "code",
      "execution_count": null,
      "id": "c4082b2e",
      "metadata": {
        "scrolled": true,
        "id": "c4082b2e",
        "outputId": "3b73a979-50aa-42c5-d56b-056bb2234696"
      },
      "outputs": [
        {
          "name": "stdout",
          "output_type": "stream",
          "text": [
            "0\n",
            "egg\n",
            "1\n",
            "sandwich\n",
            "2\n",
            "('bread', 1, 2, 3)\n",
            "3\n",
            "50\n",
            "4\n",
            "600\n",
            "5\n",
            "('fish', 'cumumber')\n",
            "6\n",
            "40\n",
            "index 0 egg\n",
            "index 1 sandwich\n",
            "index 2 ('bread', 1, 2, 3)\n",
            "index 3 50\n",
            "index 4 600\n",
            "index 5 ('fish', 'cumumber')\n",
            "index 6 40\n"
          ]
        }
      ],
      "source": [
        "#use of loop in tuple\n",
        "food = ('egg', 'sandwich', ('bread', 1, 2, 3), 50, 600, ('fish', 'cumumber'), 40)\n",
        "for i in range(len(food)):\n",
        "    print(i)#indexing\n",
        "    print(food[i])#item for each index\n",
        "\n",
        "\n",
        "#use of while loop\n",
        "food = ('egg', 'sandwich', ('bread', 1, 2, 3), 50, 600, ('fish', 'cumumber'), 40)\n",
        "i=0\n",
        "while  i < len(food):\n",
        "    print(\"index\",i,food[i])\n",
        "    i+=1"
      ]
    },
    {
      "cell_type": "code",
      "execution_count": null,
      "id": "69abc09c",
      "metadata": {
        "id": "69abc09c",
        "outputId": "38382cb3-2ce5-48f5-b5bd-ede8bcbe2bec"
      },
      "outputs": [
        {
          "name": "stdout",
          "output_type": "stream",
          "text": [
            "('egg', 'sandwich', ('bread', 1, 2, 3), 50, 600, ('fish', 'cumumber'), 40, 1, 2, 3, 'apple', 'orange', 'guava', ('dates', 'plum', ('jackfruit', 200, 400), 'mango'), True, 5)\n",
            "('egg', 'sandwich', ('bread', 1, 2, 3), 50, 600, ('fish', 'cumumber'), 40, 'egg', 'sandwich', ('bread', 1, 2, 3), 50, 600, ('fish', 'cumumber'), 40)\n"
          ]
        }
      ],
      "source": [
        "#use of multiple tuples in a tuple\n",
        "food = ('egg', 'sandwich', ('bread', 1, 2, 3), 50, 600, ('fish', 'cumumber'), 40)\n",
        "fruits=(1,2,3,'apple','orange','guava',('dates','plum',('jackfruit',200,400),'mango'),True,5)\n",
        "k=food+fruits\n",
        "print(k)\n",
        "\n",
        "#or\n",
        "k=food*2\n",
        "print(k)"
      ]
    },
    {
      "cell_type": "markdown",
      "id": "db7061a4",
      "metadata": {
        "id": "db7061a4"
      },
      "source": [
        "# Sets items in python"
      ]
    },
    {
      "cell_type": "markdown",
      "id": "e35a4460",
      "metadata": {
        "id": "e35a4460"
      },
      "source": [
        "Set items are unordered, unchangeable, and do not allow duplicate values."
      ]
    },
    {
      "cell_type": "code",
      "execution_count": null,
      "id": "10cd1ae9",
      "metadata": {
        "id": "10cd1ae9",
        "outputId": "9247154f-a7f6-4596-db47-09c88c2fdfde"
      },
      "outputs": [
        {
          "name": "stdout",
          "output_type": "stream",
          "text": [
            "{'id', 'lname', 'year', 'dept', 'fname'}\n",
            "id\n",
            "lname\n",
            "year\n",
            "dept\n",
            "fname\n"
          ]
        }
      ],
      "source": [
        "#access the items\n",
        "info={'fname','lname','id','dept','year'}\n",
        "print(info)\n",
        "\n",
        "#use of for loop\n",
        "for i in info:\n",
        "\n",
        "    print(i)\n",
        "\n"
      ]
    },
    {
      "cell_type": "code",
      "execution_count": null,
      "id": "6d4be62a",
      "metadata": {
        "id": "6d4be62a",
        "outputId": "9ffbf4f2-5417-4db4-df15-a637fb9d056b"
      },
      "outputs": [
        {
          "name": "stdout",
          "output_type": "stream",
          "text": [
            "{'Monday', 'Wednesday', 'Friday', 'Thursday', 'Tuesday', 'Sunday', 'Satarday'}\n"
          ]
        }
      ],
      "source": [
        "#add items in a set using add() method\n",
        "day={'Satarday','Sunday','Monday','Tuesday','Wednesday','Thursday'}\n",
        "day.add('Friday')\n",
        "print(day)"
      ]
    },
    {
      "cell_type": "markdown",
      "id": "ebf8557e",
      "metadata": {
        "id": "ebf8557e"
      },
      "source": [
        "To add two set in a single set"
      ]
    },
    {
      "cell_type": "code",
      "execution_count": null,
      "id": "01d401bc",
      "metadata": {
        "id": "01d401bc",
        "outputId": "fd39681f-d043-496c-8891-fce1ee413de0"
      },
      "outputs": [
        {
          "name": "stdout",
          "output_type": "stream",
          "text": [
            "{1, 2, 3, 4, 'Wednesday', 5, 6, 7, 'Monday', 'Friday', 'Thursday', 'Tuesday', 'Sunday', 'Satarday'}\n"
          ]
        }
      ],
      "source": [
        "day={'Satarday','Sunday','Monday','Tuesday','Wednesday','Thursday','Friday'}\n",
        "dcount={1,2,3,4,5,6,7}\n",
        "\n",
        "day.update(dcount)\n",
        "print(day)"
      ]
    },
    {
      "cell_type": "markdown",
      "id": "221ae255",
      "metadata": {
        "id": "221ae255"
      },
      "source": [
        "To remove an item in a set, use the remove()"
      ]
    },
    {
      "cell_type": "code",
      "execution_count": null,
      "id": "58594782",
      "metadata": {
        "id": "58594782",
        "outputId": "24495086-7bbe-4bba-f433-dc093fe0e741"
      },
      "outputs": [
        {
          "name": "stdout",
          "output_type": "stream",
          "text": [
            "{'Monday', 'Wednesday', 'Friday', 'Thursday', 'Tuesday', 'Sunday'}\n",
            "Monday\n",
            "Wednesday\n",
            "Friday\n",
            "Thursday\n",
            "Tuesday\n",
            "Sunday\n"
          ]
        }
      ],
      "source": [
        "day={'Satarday','Sunday','Monday','Tuesday','Wednesday','Thursday','Friday'}\n",
        "day.remove(\"Satarday\")\n",
        "print(day)\n",
        "\n",
        "#use of loop\n",
        "for i in day:\n",
        "    print(i)"
      ]
    },
    {
      "cell_type": "markdown",
      "id": "566e44d0",
      "metadata": {
        "id": "566e44d0"
      },
      "source": [
        "# Python Dictionaries"
      ]
    },
    {
      "cell_type": "markdown",
      "id": "d2b9159e",
      "metadata": {
        "id": "d2b9159e"
      },
      "source": [
        "A dictionary is a collection which is ordered*, changeable and do not allow duplicates."
      ]
    },
    {
      "cell_type": "markdown",
      "id": "2fb76b04",
      "metadata": {
        "id": "2fb76b04"
      },
      "source": [
        "Dictionaries are written with curly brackets, and have keys and values:\n"
      ]
    },
    {
      "cell_type": "code",
      "execution_count": null,
      "id": "02db70d6",
      "metadata": {
        "id": "02db70d6",
        "outputId": "fd82c844-f844-4b9e-a14a-79709272d680"
      },
      "outputs": [
        {
          "name": "stdout",
          "output_type": "stream",
          "text": [
            "<class 'dict'>\n",
            "ID: 20111108\n",
            "First_Name: Omayer\n",
            "Last_Name: Ahmed\n",
            "Full Name: Omayer   Ahmed\n"
          ]
        }
      ],
      "source": [
        "info={\n",
        "    \"Id\"   :20111108,\n",
        "    \"fname\":\"Omayer\",\n",
        "    \"lname\":\"Ahmed\",\n",
        "\n",
        "   }\n",
        "print(type(info))\n",
        "print(\"ID:\",info[\"Id\"])\n",
        "print(\"First_Name:\",info[\"fname\"])\n",
        "print(\"Last_Name:\",info[\"lname\"])\n",
        "print(\"Full Name:\",info[\"fname\"],\" \",info[\"lname\"])"
      ]
    },
    {
      "cell_type": "code",
      "execution_count": null,
      "id": "91691156",
      "metadata": {
        "id": "91691156",
        "outputId": "850966f7-4033-45ec-cfd9-27240d954b3d"
      },
      "outputs": [
        {
          "name": "stdout",
          "output_type": "stream",
          "text": [
            "['Bangladesh', 'Mymensingh', 'Gafargaon']\n"
          ]
        }
      ],
      "source": [
        "# String, int, boolean, and list data types in dictionaries\n",
        "info={\n",
        "    \"Id\"   :20111108,\n",
        "    \"fname\":\"Omayer\",\n",
        "    \"lname\":\"Ahmed\",\n",
        "    \"data\" :True,\n",
        "    \"address\":[\"Bangladesh\",\"Mymensingh\",'Gafargaon']\n",
        "\n",
        "   }\n",
        "print(info[\"address\"])"
      ]
    },
    {
      "cell_type": "code",
      "execution_count": null,
      "id": "cdcbbba9",
      "metadata": {
        "id": "cdcbbba9",
        "outputId": "9926420d-9784-4967-afaf-64eba0b024f3"
      },
      "outputs": [
        {
          "name": "stdout",
          "output_type": "stream",
          "text": [
            "{'country': 'Bangladesh', 'district': 'Mymensingh', 'Upazila': 'Gafargaon'}\n",
            "Mymensingh\n",
            "20111108\n",
            "{'Id': 20111108, 'fname': 'Omayer', 'lname': 'Ahmed', 'address': ['Bangladesh', 'Mymensingh', 'Gafargaon'], 'religious': 'Islam'}\n",
            "{'country': 'Bangladesh', 'district': 'Mymensingh'}\n"
          ]
        }
      ],
      "source": [
        "# use of nested dictionary and access items\n",
        "\n",
        "info = {\n",
        "    \"student1\": {\n",
        "        \"Id\": 20111108,\n",
        "        \"fname\": \"Omayer\",\n",
        "        \"lname\": \"Ahmed\",\n",
        "        \"address\": [\"Bangladesh\", \"Mymensingh\", \"Gafargaon\"]\n",
        "    },\n",
        "    \"student2\": {\n",
        "        \"Id\": 20111110,\n",
        "        \"fname\": \"Abdullah\",\n",
        "        \"lname\": \"Korim\",\n",
        "        \"address\": {\n",
        "                \"country\":\"Bangladesh\",\n",
        "                \"district\":\"Mymensingh\",\n",
        "                \"Upazila\" :\"Gafargaon\"\n",
        "              }\n",
        "    }\n",
        "}\n",
        "\n",
        "print(info[\"student2\"][\"address\"])\n",
        "print(info[\"student2\"][\"address\"][\"district\"])\n",
        "print(info[\"student1\"][\"Id\"])\n",
        "\n"
      ]
    },
    {
      "cell_type": "code",
      "execution_count": null,
      "id": "4908d035",
      "metadata": {
        "id": "4908d035",
        "outputId": "7cc7a377-2535-4219-a803-503ee366eee9"
      },
      "outputs": [
        {
          "name": "stdout",
          "output_type": "stream",
          "text": [
            "{'country': 'Bangladesh', 'district': 'Mymensingh'}\n"
          ]
        }
      ],
      "source": [
        "#remove item from a dictionary using pop() method\n",
        "\n",
        "info = {\n",
        "    \"student1\": {\n",
        "        \"Id\": 20111108,\n",
        "        \"fname\": \"Omayer\",\n",
        "        \"lname\": \"Ahmed\",\n",
        "        \"address\": [\"Bangladesh\", \"Mymensingh\", \"Gafargaon\"]\n",
        "    },\n",
        "    \"student2\": {\n",
        "        \"Id\": 20111110,\n",
        "        \"fname\": \"Abdullah\",\n",
        "        \"lname\": \"Korim\",\n",
        "        \"address\": {\n",
        "                \"country\":\"Bangladesh\",\n",
        "                \"district\":\"Mymensingh\",\n",
        "                \"Upazila\" :\"Gafargaon\"\n",
        "              }\n",
        "    }\n",
        "}\n",
        "info[\"student2\"][\"address\"].pop(\"Upazila\")\n",
        "print(info[\"student2\"][\"address\"])\n"
      ]
    },
    {
      "cell_type": "code",
      "execution_count": null,
      "id": "6f9901d3",
      "metadata": {
        "id": "6f9901d3",
        "outputId": "e0254ee7-317f-44d6-e1d1-ab8587fb611a"
      },
      "outputs": [
        {
          "name": "stdout",
          "output_type": "stream",
          "text": [
            "{'Id': 20111108, 'fname': 'Omayer', 'lname': 'Ahmed', 'address': ['Bangladesh', 'Mymensingh', 'Gafargaon'], 'religious': 'Islam'}\n"
          ]
        }
      ],
      "source": [
        "#add key and values in dictionary\n",
        "info = {\n",
        "    \"student1\": {\n",
        "        \"Id\": 20111108,\n",
        "        \"fname\": \"Omayer\",\n",
        "        \"lname\": \"Ahmed\",\n",
        "        \"address\": [\"Bangladesh\", \"Mymensingh\", \"Gafargaon\"]\n",
        "    },\n",
        "    \"student2\": {\n",
        "        \"Id\": 20111110,\n",
        "        \"fname\": \"Abdullah\",\n",
        "        \"lname\": \"Korim\",\n",
        "        \"address\": {\n",
        "                \"country\":\"Bangladesh\",\n",
        "                \"district\":\"Mymensingh\",\n",
        "                \"Upazila\" :\"Gafargaon\"\n",
        "              }\n",
        "    }\n",
        "}\n",
        "\n",
        "info[\"student1\"][\"religious\"]=\"Islam\"\n",
        "print(info[\"student1\"])"
      ]
    },
    {
      "cell_type": "code",
      "execution_count": null,
      "id": "111c6bd7",
      "metadata": {
        "id": "111c6bd7",
        "outputId": "eedab294-3823-48b7-888a-6c71cef5a2de"
      },
      "outputs": [
        {
          "name": "stdout",
          "output_type": "stream",
          "text": [
            "{'country': 'Bangladesh', 'district': 'Mymensingh'}\n"
          ]
        }
      ],
      "source": [
        "#remove item from a dictionary using pop() method\n",
        "info = {\n",
        "    \"student1\": {\n",
        "        \"Id\": 20111108,\n",
        "        \"fname\": \"Omayer\",\n",
        "        \"lname\": \"Ahmed\",\n",
        "        \"address\": [\"Bangladesh\", \"Mymensingh\", \"Gafargaon\"]\n",
        "    },\n",
        "    \"student2\": {\n",
        "        \"Id\": 20111110,\n",
        "        \"fname\": \"Abdullah\",\n",
        "        \"lname\": \"Korim\",\n",
        "        \"address\": {\n",
        "                \"country\":\"Bangladesh\",\n",
        "                \"district\":\"Mymensingh\",\n",
        "                \"Upazila\" :\"Gafargaon\"\n",
        "              }\n",
        "    }\n",
        "}\n",
        "info[\"student2\"][\"address\"].pop(\"Upazila\")\n",
        "print(info[\"student2\"][\"address\"])"
      ]
    },
    {
      "cell_type": "code",
      "execution_count": null,
      "id": "46361cfb",
      "metadata": {
        "id": "46361cfb",
        "outputId": "9bba3b8c-4de5-4ead-b813-81e944e51daf"
      },
      "outputs": [
        {
          "name": "stdout",
          "output_type": "stream",
          "text": [
            "student1\n",
            "student2\n",
            "20111108\n",
            "Omayer\n",
            "Ahmed\n",
            "['Bangladesh', 'Mymensingh', 'Gafargaon']\n"
          ]
        }
      ],
      "source": [
        "# see the key and values of dictionaries\n",
        "info = {\n",
        "    \"student1\": {\n",
        "        \"Id\": 20111108,\n",
        "        \"fname\": \"Omayer\",\n",
        "        \"lname\": \"Ahmed\",\n",
        "        \"address\": [\"Bangladesh\", \"Mymensingh\", \"Gafargaon\"] #use of list\n",
        "    },\n",
        "    \"student2\": {\n",
        "        \"Id\": 20111110,\n",
        "        \"fname\": \"Zubayer\",\n",
        "        \"lname\": \"Rahman\",\n",
        "        \"address\": {\n",
        "                \"country\":\"Bangladesh\",\n",
        "                \"district\":\"Mymensingh\",\n",
        "                \"Upazila\" :\"Gafargaon\"\n",
        "              }\n",
        "    }\n",
        "}\n",
        "\n",
        "\n",
        "#see keys only\n",
        "for i in info.keys():\n",
        "    print(i)\n",
        "\n",
        "\n",
        "#see values only\n",
        "for i in info[\"student1\"].values():\n",
        "    print(i)\n"
      ]
    },
    {
      "cell_type": "markdown",
      "id": "56195e13",
      "metadata": {
        "id": "56195e13"
      },
      "source": [
        "# If ... Else in python"
      ]
    },
    {
      "cell_type": "code",
      "execution_count": null,
      "id": "f4d1ed49",
      "metadata": {
        "id": "f4d1ed49",
        "outputId": "556e3fa9-4ccd-46da-c592-bfbd014586f3"
      },
      "outputs": [
        {
          "name": "stdout",
          "output_type": "stream",
          "text": [
            "Take the value of x:34\n",
            "Take the value of y:34\n",
            "34 is equal to 34\n"
          ]
        }
      ],
      "source": [
        "x=int(input(\"Take the value of x:\"))\n",
        "y=int(input(\"Take the value of y:\"))\n",
        "\n",
        "if x >y:\n",
        "    print(x,\" is greater than \",y)\n",
        "\n",
        "elif x==y:\n",
        "    print(x,\"is equal to\",y)\n",
        "\n",
        "else:\n",
        "    print(x,\"is less than\",y)"
      ]
    },
    {
      "cell_type": "code",
      "execution_count": null,
      "id": "d6cabe51",
      "metadata": {
        "id": "d6cabe51",
        "outputId": "1693dcdd-16a2-42c1-f5db-0f3f854aa3d2"
      },
      "outputs": [
        {
          "name": "stdout",
          "output_type": "stream",
          "text": [
            "Take the value of x:23\n",
            "Take the vlaue of y:34\n",
            "Take the vlaue of z:23\n",
            "23 or 34 is greater than 23\n"
          ]
        }
      ],
      "source": [
        "#use of or operator with if ..else condition\n",
        "\n",
        "x=int(input(\"Take the value of x:\"))\n",
        "y=int(input(\"Take the vlaue of y:\"))\n",
        "z=int(input(\"Take the vlaue of z:\"))\n",
        "\n",
        "if x or y > z:\n",
        "    print(x,\"or\",y,\"is greater than\",z)\n",
        "\n",
        "elif x or y == z:\n",
        "    print(x,\"or\",y,\"is equal to\",z)\n",
        "\n",
        "else:\n",
        "    print(x,\"or\",y,\"is less than\",z)"
      ]
    },
    {
      "cell_type": "code",
      "execution_count": null,
      "id": "3eb4e132",
      "metadata": {
        "id": "3eb4e132",
        "outputId": "4b75ad46-30e2-4b36-8f19-a50e3cd9f3ae"
      },
      "outputs": [
        {
          "name": "stdout",
          "output_type": "stream",
          "text": [
            "Take the value of x:34\n",
            "Take the vlaue of y:34\n",
            "Take the vlaue of z:34\n",
            "34 and 34 are equal to 34\n"
          ]
        }
      ],
      "source": [
        "#use of and operator with if .... else condition\n",
        "\n",
        "x=int(input(\"Take the value of x:\"))\n",
        "y=int(input(\"Take the vlaue of y:\"))\n",
        "z=int(input(\"Take the vlaue of z:\"))\n",
        "\n",
        "if x and y > z:\n",
        "    print(x,\"and\",y,\"are greater than\",z)\n",
        "\n",
        "elif x and y == z:\n",
        "    print(x,\"and\",y,\"are equal to\",z)\n",
        "\n",
        "else:\n",
        "    print(x,\"and\",y,\"are less than\",z)"
      ]
    },
    {
      "cell_type": "markdown",
      "id": "0b1dd9de",
      "metadata": {
        "id": "0b1dd9de"
      },
      "source": [
        "# Python loops"
      ]
    },
    {
      "cell_type": "markdown",
      "id": "07cdb506",
      "metadata": {
        "id": "07cdb506"
      },
      "source": [
        "For loop"
      ]
    },
    {
      "cell_type": "code",
      "execution_count": null,
      "id": "f341f891",
      "metadata": {
        "id": "f341f891",
        "outputId": "24de1b23-413e-401b-d9a1-f4a197bddda8"
      },
      "outputs": [
        {
          "name": "stdout",
          "output_type": "stream",
          "text": [
            "English\n",
            "Bangla\n",
            "Math\n",
            "[1, 2, ['physics', 'chemistry', 'biology'], 3, 4]\n",
            "40\n"
          ]
        }
      ],
      "source": [
        "#use of for loop in list\n",
        "book = ['English', 'Bangla', 'Math', [1, 2, ['physics', 'chemistry', 'biology'], 3, 4], 40]\n",
        "\n",
        "for i in book:\n",
        "    print(i)\n"
      ]
    },
    {
      "cell_type": "code",
      "execution_count": null,
      "id": "e240ed26",
      "metadata": {
        "id": "e240ed26",
        "outputId": "13db9b3e-eb7d-482c-ce6e-8701e198a267"
      },
      "outputs": [
        {
          "name": "stdout",
          "output_type": "stream",
          "text": [
            "O\n",
            "m\n",
            "a\n",
            "y\n",
            "e\n",
            "r\n",
            " \n",
            "A\n",
            "h\n",
            "m\n",
            "e\n",
            "d\n"
          ]
        }
      ],
      "source": [
        "#loop through a string\n",
        "for i in \"Omayer Ahmed\":\n",
        "    print(i)"
      ]
    },
    {
      "cell_type": "code",
      "execution_count": null,
      "id": "8615e51f",
      "metadata": {
        "id": "8615e51f",
        "outputId": "2f8b501e-01da-4077-d794-ae7405f65ead"
      },
      "outputs": [
        {
          "name": "stdout",
          "output_type": "stream",
          "text": [
            "egg\n",
            "sandwich\n",
            "bread\n",
            "1\n",
            "2\n",
            "3\n",
            "50\n"
          ]
        }
      ],
      "source": [
        "#all itmes print from a list\n",
        "food = ['egg', 'sandwich', ['bread', 1, 2, 3], 50]\n",
        "\n",
        "for item in food:\n",
        "    if isinstance(item, list) and 2 in item:\n",
        "        sublist = food[2]\n",
        "        for value in sublist:\n",
        "            print(value)\n",
        "    else:\n",
        "        print(item)"
      ]
    },
    {
      "cell_type": "code",
      "execution_count": null,
      "id": "60a20667",
      "metadata": {
        "id": "60a20667",
        "outputId": "e1f201c9-095a-4e79-b933-5ba653d70589"
      },
      "outputs": [
        {
          "name": "stdout",
          "output_type": "stream",
          "text": [
            "egg\n",
            "sandwich\n",
            "bread\n",
            "1\n",
            "100\n",
            "200\n",
            "2\n",
            "3\n",
            "50\n"
          ]
        }
      ],
      "source": [
        "def print_items(food):\n",
        "    for item in food:\n",
        "        if isinstance(item, list):\n",
        "            print_items(item)\n",
        "\n",
        "        else:\n",
        "            print(item)\n",
        "\n",
        "food = ['egg', 'sandwich', ['bread', 1, [100, 200], 2, 3], 50]\n",
        "print_items(food)"
      ]
    },
    {
      "cell_type": "code",
      "execution_count": null,
      "id": "d1ea6bf1",
      "metadata": {
        "id": "d1ea6bf1",
        "outputId": "7476ffa2-2b29-4b27-f49a-3ce80a28f8ba"
      },
      "outputs": [
        {
          "name": "stdout",
          "output_type": "stream",
          "text": [
            "egg\n",
            "sandwich\n"
          ]
        }
      ],
      "source": [
        "#use of break statemnt\n",
        "\n",
        "food = ['egg', 'sandwich','bread', 1]\n",
        "\n",
        "for x in food:\n",
        "    print(x)\n",
        "    if x == \"sandwich\":\n",
        "        break\n"
      ]
    },
    {
      "cell_type": "code",
      "execution_count": null,
      "id": "0627fa58",
      "metadata": {
        "id": "0627fa58",
        "outputId": "f6c616e4-3516-4684-c0bd-739cb899455b"
      },
      "outputs": [
        {
          "name": "stdout",
          "output_type": "stream",
          "text": [
            "egg\n",
            "sandwich\n",
            "1\n"
          ]
        }
      ],
      "source": [
        "#use of continue statement\n",
        "food = ['egg', 'sandwich','bread', 1]\n",
        "for x in food:\n",
        "    if x=='bread':\n",
        "        continue\n",
        "    print(x)\n"
      ]
    },
    {
      "cell_type": "code",
      "execution_count": null,
      "id": "80d4863e",
      "metadata": {
        "id": "80d4863e",
        "outputId": "75c870e4-3cd1-42a9-c3de-580d273f21b9"
      },
      "outputs": [
        {
          "name": "stdout",
          "output_type": "stream",
          "text": [
            "1\n",
            "3\n",
            "5\n",
            "7\n",
            "9\n",
            "11\n",
            "13\n",
            "15\n",
            "17\n",
            "19\n"
          ]
        }
      ],
      "source": [
        "#use of range(start,end ,increment)\n",
        "\n",
        "for i in range(1,20,2):\n",
        "    print(i)"
      ]
    },
    {
      "cell_type": "code",
      "execution_count": null,
      "id": "a07a420b",
      "metadata": {
        "id": "a07a420b",
        "outputId": "4dfa94d7-2d69-479f-e329-69f03370a8d0"
      },
      "outputs": [
        {
          "name": "stdout",
          "output_type": "stream",
          "text": [
            "1 egg\n",
            "2 egg\n",
            "3 egg\n",
            "1 sandwich\n",
            "2 sandwich\n",
            "3 sandwich\n",
            "1 bread\n",
            "2 bread\n",
            "3 bread\n"
          ]
        }
      ],
      "source": [
        "#nested loop\n",
        "food = ['egg', 'sandwich','bread']\n",
        "num =[1,2,3]\n",
        "for i in food:\n",
        "    for j in num:\n",
        "        print(j,i)"
      ]
    },
    {
      "cell_type": "markdown",
      "id": "44852556",
      "metadata": {
        "id": "44852556"
      },
      "source": [
        "# Python Function"
      ]
    },
    {
      "cell_type": "code",
      "execution_count": null,
      "id": "df95923a",
      "metadata": {
        "id": "df95923a",
        "outputId": "ad62001d-eb0d-49d8-876e-6e7ffe4a43f4"
      },
      "outputs": [
        {
          "name": "stdout",
          "output_type": "stream",
          "text": [
            "Take the value of x:23\n",
            "Take the value of y:34\n",
            "addition: 57\n",
            "subtraction: -11\n",
            "Division: 0.6764705882352942\n"
          ]
        }
      ],
      "source": [
        "#calling function\n",
        "\n",
        "def function_name(a,b):\n",
        "\n",
        "\n",
        "    print(\"addition:\",a+b)\n",
        "    print(\"subtraction:\",a-b)\n",
        "    print(\"Division:\",a/b)\n",
        "\n",
        "\n",
        "x=int(input(\"Take the value of x:\"))\n",
        "y=int(input(\"Take the value of y:\"))\n",
        "\n",
        "function_name(x,y)\n"
      ]
    },
    {
      "cell_type": "code",
      "execution_count": null,
      "id": "379a0afa",
      "metadata": {
        "id": "379a0afa",
        "outputId": "12e3044c-f40d-49ae-8358-bcdb4a2aa260"
      },
      "outputs": [
        {
          "name": "stdout",
          "output_type": "stream",
          "text": [
            "Omayer   Ahmed\n"
          ]
        }
      ],
      "source": [
        "#pass two string in a function\n",
        "\n",
        "def String_Pass(fname,lname):\n",
        "    print(fname,\" \",lname)\n",
        "\n",
        "String_Pass(\"Omayer\",\"Ahmed\")\n"
      ]
    },
    {
      "cell_type": "code",
      "execution_count": null,
      "id": "d003fa68",
      "metadata": {
        "id": "d003fa68",
        "outputId": "159a547b-80da-49be-cb9d-3543854faeca"
      },
      "outputs": [
        {
          "name": "stdout",
          "output_type": "stream",
          "text": [
            "MY Favourite color is Green\n",
            "MY Favourite color is Yellow\n",
            "MY Favourite color is Blue\n",
            "MY Favourite color is Cyan\n"
          ]
        }
      ],
      "source": [
        "#multiple value pass in a single function\n",
        "\n",
        "def pass_color(like):\n",
        "\n",
        "    print(\"MY Favourite color is\",like)\n",
        "    return\n",
        "\n",
        "pass_color(\"Green\")\n",
        "pass_color(\"Yellow\")\n",
        "pass_color(\"Blue\")\n",
        "pass_color(\"Cyan\")\n"
      ]
    },
    {
      "cell_type": "code",
      "execution_count": null,
      "id": "044ac5d9",
      "metadata": {
        "id": "044ac5d9",
        "outputId": "22e2bda8-ac49-493c-f968-cf5f8b1e5f9f"
      },
      "outputs": [
        {
          "name": "stdout",
          "output_type": "stream",
          "text": [
            "egg\n",
            "sandwich\n",
            "bread\n",
            "banana\n",
            "pizza\n"
          ]
        }
      ],
      "source": [
        "#list of item print using function calling\n",
        "\n",
        "def List_Items(food):\n",
        "    for i in food:\n",
        "        print(i)\n",
        "\n",
        "food=['egg', 'sandwich','bread','banana','pizza']\n",
        "\n",
        "List_Items(food)"
      ]
    },
    {
      "cell_type": "markdown",
      "id": "e90cc9e5",
      "metadata": {
        "id": "e90cc9e5"
      },
      "source": [
        "# Lambda Function"
      ]
    },
    {
      "cell_type": "markdown",
      "id": "8c0efedf",
      "metadata": {
        "id": "8c0efedf"
      },
      "source": [
        "A lambda function is a small anonymous function.\n",
        "\n",
        "A lambda function can take any number of arguments, but can only have one expression"
      ]
    },
    {
      "cell_type": "code",
      "execution_count": null,
      "id": "568f662e",
      "metadata": {
        "id": "568f662e",
        "outputId": "4ef8962e-e1e9-478c-a719-1aa9baf03905"
      },
      "outputs": [
        {
          "name": "stdout",
          "output_type": "stream",
          "text": [
            "25\n"
          ]
        }
      ],
      "source": [
        "#syntax :(lambda parameter names : expression) (passing value as a parameter)\n",
        "\n",
        "l=(lambda a,b : a*a+2*a*b+b*b)(3,2)\n",
        "\n",
        "print(l)"
      ]
    },
    {
      "cell_type": "code",
      "execution_count": null,
      "id": "46d1d83e",
      "metadata": {
        "id": "46d1d83e",
        "outputId": "ecfba4e9-fa6e-48a8-be0d-b36746ca0f53"
      },
      "outputs": [
        {
          "name": "stdout",
          "output_type": "stream",
          "text": [
            "30\n",
            "40\n"
          ]
        }
      ],
      "source": [
        "#use of lambda function inside a origenal function\n",
        "\n",
        "def myfunction(n):\n",
        "    return lambda a :a*n\n",
        "\n",
        "apple=myfunction(3)\n",
        "banana=myfunction(4)\n",
        "\n",
        "print(apple(10))\n",
        "print(banana(10))"
      ]
    },
    {
      "cell_type": "markdown",
      "id": "6eac409f",
      "metadata": {
        "id": "6eac409f"
      },
      "source": [
        "# map() in python"
      ]
    },
    {
      "cell_type": "markdown",
      "id": "2b2016cb",
      "metadata": {
        "id": "2b2016cb"
      },
      "source": [
        "The map() function executes a specified function for each item in an iterable."
      ]
    },
    {
      "cell_type": "code",
      "execution_count": null,
      "id": "fc80129c",
      "metadata": {
        "id": "fc80129c",
        "outputId": "e66064d0-abc0-4340-c2ad-165bd444ccfb"
      },
      "outputs": [
        {
          "name": "stdout",
          "output_type": "stream",
          "text": [
            "[1, 8, 27, 64, 125, 216, 343]\n"
          ]
        }
      ],
      "source": [
        "#use of map(func,obj like list,tuple etc)\n",
        "def myfunction(a):\n",
        "    return a*a*a\n",
        "\n",
        "\n",
        "num=[1,2,3,4,5,6,7]\n",
        "result=list(map(myfunction,num))\n",
        "print(result)"
      ]
    },
    {
      "cell_type": "code",
      "execution_count": null,
      "id": "35730cbb",
      "metadata": {
        "id": "35730cbb",
        "outputId": "f6f51f2a-3d3f-41d9-9829-05b6a0477ac7"
      },
      "outputs": [
        {
          "name": "stdout",
          "output_type": "stream",
          "text": [
            "(1, 8, 27, 64, 125, 216)\n"
          ]
        }
      ],
      "source": [
        "#use of tuple in map()\n",
        "def myfunction(a,b,c):\n",
        "    return a*b*c\n",
        "\n",
        "\n",
        "t=tuple([1,2,3,4,5,6])\n",
        "consequence=tuple(map(myfunction,t,t,t))\n",
        "print(consequence)\n",
        "\n"
      ]
    },
    {
      "cell_type": "markdown",
      "id": "457ef820",
      "metadata": {
        "id": "457ef820"
      },
      "source": [
        "# Filter in python"
      ]
    },
    {
      "cell_type": "code",
      "execution_count": null,
      "id": "b0f1901e",
      "metadata": {
        "id": "b0f1901e",
        "outputId": "53c5eb3e-666a-4cea-97db-96aa4a9a142b"
      },
      "outputs": [
        {
          "name": "stdout",
          "output_type": "stream",
          "text": [
            "[2, 4, 6]\n"
          ]
        }
      ],
      "source": [
        "#use of filter() with anonymous function\n",
        "l=[1,2,3,4,5,6]\n",
        "\n",
        "result=list(filter(lambda x :x%2==0 ,l))\n",
        "print(result)"
      ]
    },
    {
      "cell_type": "code",
      "execution_count": null,
      "id": "e974d9c9",
      "metadata": {
        "id": "e974d9c9",
        "outputId": "8d58540b-401e-4233-acc3-df48c7df5378"
      },
      "outputs": [
        {
          "name": "stdout",
          "output_type": "stream",
          "text": [
            "[4, 8, 200, 300]\n"
          ]
        }
      ],
      "source": [
        "#use of filter(func name,obj) with naming function\n",
        "def myfunction(x):\n",
        "    return x%2==0\n",
        "\n",
        "l=[3,4,5,7,8,200,300]\n",
        "result=list(filter(myfunction,l))\n",
        "print(result)"
      ]
    }
  ],
  "metadata": {
    "kernelspec": {
      "display_name": "Python 3 (ipykernel)",
      "language": "python",
      "name": "python3"
    },
    "language_info": {
      "codemirror_mode": {
        "name": "ipython",
        "version": 3
      },
      "file_extension": ".py",
      "mimetype": "text/x-python",
      "name": "python",
      "nbconvert_exporter": "python",
      "pygments_lexer": "ipython3",
      "version": "3.11.5"
    },
    "colab": {
      "provenance": [],
      "include_colab_link": true
    }
  },
  "nbformat": 4,
  "nbformat_minor": 5
}
